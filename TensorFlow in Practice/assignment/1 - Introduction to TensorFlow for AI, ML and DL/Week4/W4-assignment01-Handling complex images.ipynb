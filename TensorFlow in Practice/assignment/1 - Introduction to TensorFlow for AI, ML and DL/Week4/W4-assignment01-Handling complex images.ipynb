{
 "cells": [
  {
   "cell_type": "markdown",
   "metadata": {},
   "source": [
    "Below is code with a link to a happy or sad dataset which contains 80 images, 40 happy and 40 sad. Create a convolutional neural network that trains to 100% accuracy on these images, which cancels training upon hitting training accuracy of >.999\n",
    "\n",
    "Hint -- it will work best with 3 convolutional layers."
   ]
  },
  {
   "cell_type": "code",
   "execution_count": 1,
   "metadata": {},
   "outputs": [],
   "source": [
    "!wget --no-check-certificate \\\n",
    "    \"https://storage.googleapis.com/laurencemoroney-blog.appspot.com/happy-or-sad.zip\" \\\n",
    "    -O \"/tmp/happy-or-sad.zip\""
   ]
  },
  {
   "cell_type": "code",
   "execution_count": 2,
   "metadata": {},
   "outputs": [],
   "source": [
    "import tensorflow as tf\n",
    "from tensorflow import keras\n",
    "import os\n",
    "import zipfile\n",
    "\n",
    "DESIRED_ACCURACY = 0.999"
   ]
  },
  {
   "cell_type": "code",
   "execution_count": 3,
   "metadata": {},
   "outputs": [],
   "source": [
    "zip_ref=zipfile.ZipFile(\"/tmp/happy-or-sad.zip\")\n",
    "zip_ref.extractall('/tmp/h-ors')\n",
    "zip_ref.close()"
   ]
  },
  {
   "cell_type": "code",
   "execution_count": 5,
   "metadata": {},
   "outputs": [],
   "source": [
    "def train_happy_sad_model():\n",
    "    class myCallBack(keras.callbacks.Callback):\n",
    "        def on_epoch_end(self,epoch,logs={}):\n",
    "            if(logs.get('acc')>DESIRED_ACCURACY):\n",
    "                self.model.stop_training=True\n",
    "    callbacks=myCallBack()\n",
    "    model=keras.models.Sequential([\n",
    "        keras.layers.Conv2D(16,(3,3),activation='relu',input_shape=(150,150,3)),\n",
    "        keras.layers.MaxPooling2D(2,2),\n",
    "        keras.layers.Conv2D(16,(3,3),activation='relu',input_shape=(150,150,3)),\n",
    "        keras.layers.MaxPooling2D(2,2),\n",
    "        keras.layers.Conv2D(16,(3,3),activation='relu',input_shape=(150,150,3)),\n",
    "        keras.layers.MaxPooling2D(2,2),\n",
    "        keras.layers.Flatten(),\n",
    "        keras.layers.Dense(512,activation='relu'),\n",
    "        keras.layers.Dense(1,activation='sigmoid')\n",
    "    ])\n",
    "\n",
    "    from tensorflow.keras.optimizers import RMSprop\n",
    "\n",
    "    model.compile(optimizer=RMSprop(lr=0.001),\n",
    "                  loss='binary_crossentropy',\n",
    "                  metrics=['acc'])\n",
    "    from tensorflow.keras.preprocessing.image import ImageDataGenerator\n",
    "\n",
    "    train_datagen=ImageDataGenerator(rescale=1/255.)\n",
    "\n",
    "    train_generator=train_datagen.flow_from_directory('/tmp/h-ors',\n",
    "                                                      target_size=(150,150),\n",
    "                                                      batch_size=10,\n",
    "                                                      class_mode='binary')\n",
    "    \n",
    "    history=model.fit(\n",
    "        train_generator,\n",
    "        steps_per_epoch=8,\n",
    "        epochs=15,\n",
    "        verbose=1,\n",
    "        callbacks=[callbacks]\n",
    "        )\n",
    "    \n",
    "    return history.history['acc'][-1]"
   ]
  },
  {
   "cell_type": "code",
   "execution_count": 6,
   "metadata": {},
   "outputs": [
    {
     "name": "stdout",
     "output_type": "stream",
     "text": [
      "Found 80 images belonging to 2 classes.\n",
      "WARNING:tensorflow:sample_weight modes were coerced from\n",
      "  ...\n",
      "    to  \n",
      "  ['...']\n",
      "Train for 8 steps\n",
      "Epoch 1/15\n",
      "8/8 [==============================] - 2s 198ms/step - loss: 1.0930 - acc: 0.5875\n",
      "Epoch 2/15\n",
      "8/8 [==============================] - 1s 92ms/step - loss: 0.5458 - acc: 0.7625\n",
      "Epoch 3/15\n",
      "8/8 [==============================] - 1s 100ms/step - loss: 0.4674 - acc: 0.7250\n",
      "Epoch 4/15\n",
      "8/8 [==============================] - 1s 90ms/step - loss: 0.2101 - acc: 0.9125\n",
      "Epoch 5/15\n",
      "8/8 [==============================] - 1s 75ms/step - loss: 0.1659 - acc: 0.9375\n",
      "Epoch 6/15\n",
      "8/8 [==============================] - 1s 94ms/step - loss: 0.2163 - acc: 0.8875\n",
      "Epoch 7/15\n",
      "8/8 [==============================] - 1s 99ms/step - loss: 0.1097 - acc: 0.9500\n",
      "Epoch 8/15\n",
      "8/8 [==============================] - 1s 107ms/step - loss: 0.1119 - acc: 0.9375\n",
      "Epoch 9/15\n",
      "8/8 [==============================] - 1s 112ms/step - loss: 0.1299 - acc: 0.9375\n",
      "Epoch 10/15\n",
      "8/8 [==============================] - 1s 96ms/step - loss: 0.1453 - acc: 0.9625\n",
      "Epoch 11/15\n",
      "8/8 [==============================] - 1s 105ms/step - loss: 0.1062 - acc: 0.9250\n",
      "Epoch 12/15\n",
      "8/8 [==============================] - 1s 120ms/step - loss: 0.0366 - acc: 1.0000\n"
     ]
    },
    {
     "data": {
      "text/plain": [
       "1.0"
      ]
     },
     "execution_count": 6,
     "metadata": {},
     "output_type": "execute_result"
    }
   ],
   "source": [
    "train_happy_sad_model()"
   ]
  },
  {
   "cell_type": "code",
   "execution_count": null,
   "metadata": {},
   "outputs": [],
   "source": []
  }
 ],
 "metadata": {
  "kernelspec": {
   "display_name": "Python 3",
   "language": "python",
   "name": "python3"
  },
  "language_info": {
   "codemirror_mode": {
    "name": "ipython",
    "version": 3
   },
   "file_extension": ".py",
   "mimetype": "text/x-python",
   "name": "python",
   "nbconvert_exporter": "python",
   "pygments_lexer": "ipython3",
   "version": "3.7.7"
  }
 },
 "nbformat": 4,
 "nbformat_minor": 4
}
