{
 "cells": [
  {
   "cell_type": "markdown",
   "metadata": {},
   "source": [
    "In the videos you looked at how you would improve Fashion MNIST using Convolutions. For your exercise see if you can improve MNIST to 99.8% accuracy or more using only a single convolutional layer and a single MaxPooling 2D. You should stop training once the accuracy goes above this amount. It should happen in less than 20 epochs, so it's ok to hard code the number of epochs for training, but your training must end once it hits the above metric. If it doesn't, then you'll need to redesign your layers.\n",
    "\n",
    "I've started the code for you -- you need to finish it!\n",
    "\n",
    "When 99.8% accuracy has been hit, you should print out the string \"Reached 99.8% accuracy so cancelling training!\""
   ]
  },
  {
   "cell_type": "code",
   "execution_count": 1,
   "metadata": {},
   "outputs": [],
   "source": [
    "import tensorflow as tf\n",
    "from tensorflow import keras"
   ]
  },
  {
   "cell_type": "code",
   "execution_count": 2,
   "metadata": {},
   "outputs": [],
   "source": [
    "mnist = tf.keras.datasets.mnist\n",
    "(training_images, training_labels), (test_images, test_labels) = mnist.load_data()\n",
    "training_images=training_images.reshape(60000, 28, 28, 1)\n",
    "training_images=training_images / 255.0\n",
    "test_images = test_images.reshape(10000, 28, 28, 1)\n",
    "test_images=test_images/255.0"
   ]
  },
  {
   "cell_type": "code",
   "execution_count": 3,
   "metadata": {},
   "outputs": [],
   "source": [
    "class myCallBacks(keras.callbacks.Callback):\n",
    "    def on_epoch_end(self,epoch,logs={}):\n",
    "        if(logs.get('acc')>0.998):\n",
    "            self.model.stop_training=True"
   ]
  },
  {
   "cell_type": "code",
   "execution_count": 4,
   "metadata": {},
   "outputs": [],
   "source": [
    "def train_mnist_conv():\n",
    "    callbacks=myCallBacks()\n",
    "\n",
    "    model=keras.models.Sequential([\n",
    "        keras.layers.Conv2D(64,(3,3),input_shape=(28,28,1)),\n",
    "        keras.layers.MaxPooling2D(2,2),\n",
    "        keras.layers.Flatten(),\n",
    "        keras.layers.Dense(128,activation='relu'),\n",
    "        keras.layers.Dense(10,activation='softmax')\n",
    "    ])\n",
    "\n",
    "    model.compile(optimizer='adam',\n",
    "                  loss='sparse_categorical_crossentropy',\n",
    "                  metrics=['acc'])\n",
    "    history=model.fit(training_images,training_labels,epochs=20,callbacks=[callbacks])\n",
    "    \n",
    "    return history.epoch, history.history['acc'][-1]"
   ]
  },
  {
   "cell_type": "code",
   "execution_count": 5,
   "metadata": {},
   "outputs": [
    {
     "name": "stdout",
     "output_type": "stream",
     "text": [
      "Train on 60000 samples\n",
      "Epoch 1/20\n",
      "60000/60000 [==============================] - 19s 314us/sample - loss: 0.1642 - acc: 0.9502\n",
      "Epoch 2/20\n",
      "60000/60000 [==============================] - 16s 270us/sample - loss: 0.0596 - acc: 0.9811\n",
      "Epoch 3/20\n",
      "60000/60000 [==============================] - 16s 272us/sample - loss: 0.0351 - acc: 0.9888\n",
      "Epoch 4/20\n",
      "60000/60000 [==============================] - 16s 264us/sample - loss: 0.0249 - acc: 0.9915\n",
      "Epoch 5/20\n",
      "60000/60000 [==============================] - 17s 285us/sample - loss: 0.0178 - acc: 0.9941\n",
      "Epoch 6/20\n",
      "60000/60000 [==============================] - 20s 329us/sample - loss: 0.0142 - acc: 0.9950\n",
      "Epoch 7/20\n",
      "60000/60000 [==============================] - 17s 287us/sample - loss: 0.0133 - acc: 0.9955\n",
      "Epoch 8/20\n",
      "60000/60000 [==============================] - 17s 287us/sample - loss: 0.0103 - acc: 0.9967\n",
      "Epoch 9/20\n",
      "60000/60000 [==============================] - 22s 375us/sample - loss: 0.0095 - acc: 0.9968\n",
      "Epoch 10/20\n",
      "60000/60000 [==============================] - 20s 331us/sample - loss: 0.0092 - acc: 0.9970\n",
      "Epoch 11/20\n",
      "60000/60000 [==============================] - 21s 349us/sample - loss: 0.0083 - acc: 0.9973\n",
      "Epoch 12/20\n",
      "60000/60000 [==============================] - 32s 540us/sample - loss: 0.0092 - acc: 0.9971\n",
      "Epoch 13/20\n",
      "60000/60000 [==============================] - 28s 458us/sample - loss: 0.0077 - acc: 0.9976\n",
      "Epoch 14/20\n",
      "60000/60000 [==============================] - 32s 536us/sample - loss: 0.0071 - acc: 0.9976\n",
      "Epoch 15/20\n",
      "60000/60000 [==============================] - 32s 536us/sample - loss: 0.0088 - acc: 0.9973\n",
      "Epoch 16/20\n",
      "60000/60000 [==============================] - 23s 378us/sample - loss: 0.0072 - acc: 0.9979\n",
      "Epoch 17/20\n",
      "60000/60000 [==============================] - 20s 331us/sample - loss: 0.0064 - acc: 0.9984\n"
     ]
    },
    {
     "data": {
      "text/plain": [
       "([0, 1, 2, 3, 4, 5, 6, 7, 8, 9, 10, 11, 12, 13, 14, 15, 16], 0.99838334)"
      ]
     },
     "execution_count": 5,
     "metadata": {},
     "output_type": "execute_result"
    }
   ],
   "source": [
    "train_mnist_conv()"
   ]
  }
 ],
 "metadata": {
  "kernelspec": {
   "display_name": "Python 3",
   "language": "python",
   "name": "python3"
  },
  "language_info": {
   "codemirror_mode": {
    "name": "ipython",
    "version": 3
   },
   "file_extension": ".py",
   "mimetype": "text/x-python",
   "name": "python",
   "nbconvert_exporter": "python",
   "pygments_lexer": "ipython3",
   "version": "3.7.7"
  }
 },
 "nbformat": 4,
 "nbformat_minor": 4
}
