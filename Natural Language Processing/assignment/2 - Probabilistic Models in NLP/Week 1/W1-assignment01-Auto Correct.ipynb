{
 "cells": [
  {
   "cell_type": "markdown",
   "metadata": {},
   "source": [
    "# Assignment 1: Auto Correct\n",
    "\n",
    "Welcome to the first assignment of Course 2. This assignment will give you a chance to brush up on your python and probability skills. In doing so, you will implement an auto-correct system that is very effective and useful."
   ]
  },
  {
   "cell_type": "markdown",
   "metadata": {},
   "source": [
    "## Outline\n",
    "- [0. Overview](#0)\n",
    "    - [0.1 Edit Distance](#0-1)\n",
    "- [1. Data Preprocessing](#1)\n",
    "    - [1.1 Exercise 1](#ex-1)\n",
    "    - [1.2 Exercise 2](#ex-2)\n",
    "    - [1.3 Exercise 3](#ex-3)\n",
    "- [2. String Manipulation](#2)\n",
    "    - [2.1 Exercise 4](#ex-4)\n",
    "    - [2.2 Exercise 5](#ex-5)\n",
    "    - [2.3 Exercise 6](#ex-6)\n",
    "    - [2.4 Exercise 7](#ex-7)\n",
    "- [3. Combining the edits](#3)\n",
    "    - [3.1 Exercise 8](#ex-8)\n",
    "    - [3.2 Exercise 9](#ex-9)\n",
    "    - [3.3 Exercise 10](#ex-10)\n",
    "- [4. Minimum Edit Distance](#4)\n",
    "    - [4.1 Exercise 11](#ex-11)\n",
    "- [5. Backtrace (Optional)](#5)"
   ]
  },
  {
   "cell_type": "markdown",
   "metadata": {},
   "source": [
    "<a name='0'></a>\n",
    "## 0. Overview\n",
    "\n",
    "You use autocorrect every day on your cell phone and computer. In this assignment, you will explore what really goes on behind the scenes. Of course, the model you are about to implement is not identical to the one used in your phone, but it is still quite good. \n",
    "\n",
    "By completing this assignment you will learn how to: \n",
    "\n",
    "- Get a word count given a corpus\n",
    "- Get a word probability in the corpus \n",
    "- Manipulate strings \n",
    "- Filter strings \n",
    "- Implement Minimum edit distance to compare strings and to help find the optimal path for the edits. \n",
    "- Understand how dynamic programming works\n",
    "\n",
    "\n",
    "Similar systems are used everywhere. \n",
    "- For example, if you type in the word **\"I am lerningg\"**, chances are very high that you meant to write **\"learning\"**, as shown in **Figure 1**. "
   ]
  },
  {
   "cell_type": "markdown",
   "metadata": {},
   "source": [
    "<div style=\"width:image width px; font-size:100%; text-align:center;\"><img src='auto-correct.png' alt=\"alternate text\" width=\"width\" height=\"height\" style=\"width:300px;height:250px;\" /> Figure 1 </div>"
   ]
  },
  {
   "cell_type": "markdown",
   "metadata": {},
   "source": [
    "<a name='0-1'></a>\n",
    "#### 0.1 Edit Distance\n",
    "\n",
    "In this assignment, you will implement models that correct words that are 1 and 2 edit distances away. \n",
    "- We say two words are n edit distance away from each other when we need n edits to change one word into another. \n",
    "\n",
    "An edit could consist of one of the following options: \n",
    "\n",
    "- Delete (remove a letter): ‘hat’ => ‘at, ha, ht’\n",
    "- Switch (swap 2 adjacent letters): ‘eta’ => ‘eat, tea,...’\n",
    "- Replace (change 1 letter to another): ‘jat’ => ‘hat, rat, cat, mat, ...’\n",
    "- Insert (add a letter): ‘te’ => ‘the, ten, ate, ...’\n",
    "\n",
    "You will be using the four methods above to implement an Auto-correct. \n",
    "- To do so, you will need to compute probabilities that a certain word is correct given an input. \n",
    "\n",
    "This auto-correct you are about to implement was first created by [Peter Norvig](https://en.wikipedia.org/wiki/Peter_Norvig) in 2007. \n",
    "- His [original article](https://norvig.com/spell-correct.html) may be a useful reference for this assignment.\n",
    "\n",
    "The goal of our spell check model is to compute the following probability:\n",
    "\n",
    "$$P(c|w) = \\frac{P(w|c)\\times P(c)}{P(w)} \\tag{Eqn-1}$$\n",
    "\n",
    "The equation above is [Bayes Rule](https://en.wikipedia.org/wiki/Bayes%27_theorem). \n",
    "- Equation 1 says that the probability of a word being correct $P(c|w) $is equal to the probability of having a certain word $w$, given that it is correct $P(w|c)$, multiplied by the probability of being correct in general $P(C)$ divided by the probability of that word $w$ appearing $P(w)$ in general.\n",
    "- To compute equation 1, you will first import a data set and then create all the probabilities that you need using that data set. "
   ]
  },
  {
   "cell_type": "markdown",
   "metadata": {},
   "source": [
    "<a name='1'></a>\n",
    "# Part 1: Data Preprocessing "
   ]
  },
  {
   "cell_type": "code",
   "execution_count": 1,
   "metadata": {},
   "outputs": [],
   "source": [
    "import re\n",
    "import pandas as pd\n",
    "import numpy as np\n",
    "from collections import Counter\n",
    "\n",
    "%matplotlib inline\n",
    "%config InlineBackend.figure_format='svg'"
   ]
  },
  {
   "cell_type": "markdown",
   "metadata": {},
   "source": [
    "As in any other machine learning task, the first thing you have to do is process your data set. \n",
    "- Many courses load in pre-processed data for you. \n",
    "- However, in the real world, when you build these NLP systems, you load the datasets and process them.\n",
    "- So let's get some real world practice in pre-processing the data!\n",
    "\n",
    "Your first task is to read in a file called **'shakespeare.txt'** which is found in your file directory. To look at this file you can go to `File ==> Open `. "
   ]
  },
  {
   "cell_type": "markdown",
   "metadata": {},
   "source": [
    "<a name='ex-1'></a>\n",
    "### Exercise 1\n",
    "Implement the function `process_data` which \n",
    "\n",
    "1) Reads in a corpus (text file)\n",
    "\n",
    "2) Changes everything to lowercase\n",
    "\n",
    "3) Returns a list of words. "
   ]
  },
  {
   "cell_type": "markdown",
   "metadata": {},
   "source": [
    "#### Options and Hints\n",
    "- If you would like more of a real-life practice, don't open the 'Hints' below (yet) and try searching the web to derive your answer.\n",
    "- If you want a little help, click on the green \"General Hints\" section by clicking on it with your mouse.\n",
    "- If you get stuck or are not getting the expected results, click on the green 'Detailed Hints' section to get hints for each step that you'll take to complete this function."
   ]
  },
  {
   "cell_type": "code",
   "execution_count": 2,
   "metadata": {},
   "outputs": [],
   "source": [
    "def process_data(file_name):\n",
    "    \"\"\"\n",
    "    Input: \n",
    "        A file_name which is found in your current directory. You just have to read it in. \n",
    "    Output: \n",
    "        words: a list containing all the words in the corpus (text file you read) in lower case. \n",
    "    \"\"\"\n",
    "    words=[]\n",
    "    \n",
    "    with open(file_name) as f:\n",
    "        file_name_data=f.read()\n",
    "    file_name_data=file_name_data.lower()\n",
    "    words=re.findall('\\w+',file_name_data)\n",
    "    \n",
    "    return words"
   ]
  },
  {
   "cell_type": "markdown",
   "metadata": {},
   "source": [
    "Note, in the following cell, 'words' is converted to a python `set`. This eliminates any duplicate entries."
   ]
  },
  {
   "cell_type": "code",
   "execution_count": 3,
   "metadata": {},
   "outputs": [
    {
     "name": "stdout",
     "output_type": "stream",
     "text": [
      "The first ten words in the text are: \n",
      "['o', 'for', 'a', 'muse', 'of', 'fire', 'that', 'would', 'ascend', 'the']\n",
      "There are 6116 unique words in the vocabulary.\n"
     ]
    }
   ],
   "source": [
    "word_l = process_data('shakespeare.txt')\n",
    "vocab = set(word_l)  # this will be your new vocabulary\n",
    "print(f\"The first ten words in the text are: \\n{word_l[0:10]}\")\n",
    "print(f\"There are {len(vocab)} unique words in the vocabulary.\")"
   ]
  },
  {
   "cell_type": "markdown",
   "metadata": {},
   "source": [
    "<a name='ex-2'></a>\n",
    "### Exercise 2\n",
    "\n",
    "Implement a `get_count` function that returns a dictionary\n",
    "- The dictionary's keys are words\n",
    "- The value for each word is the number of times that word appears in the corpus. \n",
    "\n",
    "For example, given the following sentence: **\"I am happy because I am learning\"**, your dictionary should return the following: \n",
    "<table style=\"width:20%\">\n",
    "\n",
    "  <tr>\n",
    "    <td> <b>Key </b>  </td>\n",
    "    <td> <b>Value </b> </td> \n",
    "\n",
    "\n",
    "  </tr>\n",
    "  <tr>\n",
    "    <td> I  </td>\n",
    "    <td> 2</td> \n",
    " \n",
    "  </tr>\n",
    "   \n",
    "  <tr>\n",
    "    <td>am</td>\n",
    "    <td>2</td> \n",
    "  </tr>\n",
    "\n",
    "  <tr>\n",
    "    <td>happy</td>\n",
    "    <td>1</td> \n",
    "  </tr>\n",
    "  \n",
    "   <tr>\n",
    "    <td>because</td>\n",
    "    <td>1</td> \n",
    "  </tr>\n",
    "  \n",
    "   <tr>\n",
    "    <td>learning</td>\n",
    "    <td>1</td> \n",
    "  </tr>\n",
    "</table>\n",
    "\n",
    "\n",
    "**Instructions**: \n",
    "Implement a `get_count` which returns a dictionary where the key is a word and the value is the number of times the word appears in the list.  \n"
   ]
  },
  {
   "cell_type": "code",
   "execution_count": 4,
   "metadata": {},
   "outputs": [],
   "source": [
    "def get_count(word_l):\n",
    "    '''\n",
    "    Input:\n",
    "        word_l: a set of words representing the corpus. \n",
    "    Output:\n",
    "        word_count_dict: The wordcount dictionary where key is the word and value is its frequency.\n",
    "    '''\n",
    "    word_count_dict=dict()\n",
    "    \n",
    "    word_count_dict=Counter(word_l)\n",
    "    \n",
    "    return word_count_dict"
   ]
  },
  {
   "cell_type": "code",
   "execution_count": 5,
   "metadata": {},
   "outputs": [
    {
     "name": "stdout",
     "output_type": "stream",
     "text": [
      "There are 6116 key values pairs\n",
      "The count for the word 'thee' is 240\n"
     ]
    }
   ],
   "source": [
    "word_count_dict = get_count(word_l)\n",
    "print(f\"There are {len(word_count_dict)} key values pairs\")\n",
    "print(f\"The count for the word 'thee' is {word_count_dict.get('thee',0)}\")"
   ]
  },
  {
   "cell_type": "markdown",
   "metadata": {},
   "source": [
    "<a name='ex-3'></a>\n",
    "### Exercise 3\n",
    "Given the dictionary of word counts, compute the probability that each word will appear if randomly selected from the corpus of words.\n",
    "\n",
    "$$P(w_i) = \\frac{C(w_i)}{M} \\tag{Eqn-2}$$\n",
    "where \n",
    "\n",
    "$C(w_i)$ is the total number of times $w_i$ appears in the corpus.\n",
    "\n",
    "$M$ is the total number of words in the corpus.\n",
    "\n",
    "For example, the probability of the word 'am' in the sentence **'I am happy because I am learning'** is:\n",
    "\n",
    "$$P(am) = \\frac{C(w_i)}{M} = \\frac {2}{7} \\tag{Eqn-3}.$$\n",
    "\n",
    "**Instructions:** Implement `get_probs` function which gives you the probability \n",
    "that a word occurs in a sample. This returns a dictionary where the keys are words, and the value for each word is its probability in the corpus of words."
   ]
  },
  {
   "cell_type": "code",
   "execution_count": 6,
   "metadata": {},
   "outputs": [],
   "source": [
    "def get_probs(word_count_dict):\n",
    "    '''\n",
    "    Input:\n",
    "        word_count_dict: The wordcount dictionary where key is the word and value is its frequency.\n",
    "    Output:\n",
    "        probs: A dictionary where keys are the words and the values are the probability that a word will occur. \n",
    "    '''\n",
    "    probs={}\n",
    "    \n",
    "    m=sum(word_count_dict.values())\n",
    "    for key,value in word_count_dict.items():\n",
    "        probs[key]=value/m\n",
    "        \n",
    "    return probs"
   ]
  },
  {
   "cell_type": "code",
   "execution_count": 7,
   "metadata": {},
   "outputs": [
    {
     "name": "stdout",
     "output_type": "stream",
     "text": [
      "Length of probs is 6116\n",
      "P('thee') is 0.0045\n"
     ]
    }
   ],
   "source": [
    "probs = get_probs(word_count_dict)\n",
    "print(f\"Length of probs is {len(probs)}\")\n",
    "print(f\"P('thee') is {probs['thee']:.4f}\")"
   ]
  },
  {
   "cell_type": "markdown",
   "metadata": {},
   "source": [
    "<a name='2'></a>\n",
    "# Part 2: String Manipulations\n",
    "\n",
    "Now, that you have computed $P(w_i)$ for all the words in the corpus, you will write a few functions to manipulate strings so that you can edit the erroneous strings and return the right spellings of the words. In this section, you will implement four functions: \n",
    "\n",
    "* `delete_letter`: given a word, it returns all the possible strings that have **one character removed**. \n",
    "* `switch_letter`: given a word, it returns all the possible strings that have **two adjacent letters switched**.\n",
    "* `replace_letter`: given a word, it returns all the possible strings that have **one character replaced by another different letter**.\n",
    "* `insert_letter`: given a word, it returns all the possible strings that have an **additional character inserted**. \n"
   ]
  },
  {
   "cell_type": "markdown",
   "metadata": {},
   "source": [
    "#### List comprehensions\n",
    "\n",
    "String and list manipulation in python will often make use of a python feature called  [list comprehensions](https://docs.python.org/3/tutorial/datastructures.html#list-comprehensions). The routines below will be described as using list comprehensions, but if you would rather implement them in another way, you are free to do so as long as the result is the same. Further, the following section will provide detailed instructions on how to use list comprehensions and how to implement the desired functions. If you are a python expert, feel free to skip the python hints and move to implementing the routines directly."
   ]
  },
  {
   "cell_type": "markdown",
   "metadata": {},
   "source": [
    "Python List Comprehensions embed a looping structure inside of a list declaration, collapsing many lines of code into a single line. If you are not familiar with them, they seem slightly out of order relative to for loops. "
   ]
  },
  {
   "cell_type": "markdown",
   "metadata": {},
   "source": [
    "<div style=\"width:image width px; font-size:100%; text-align:center;\"><img src='GenericListComp3.PNG' alt=\"alternate text\" width=\"width\" height=\"height\"  style=\"width:800px;height:400px;\"/> Figure 2 </div>"
   ]
  },
  {
   "cell_type": "markdown",
   "metadata": {},
   "source": [
    "The diagram above shows that the components of a list comprehension are the same components you would find in a typical for loop that appends to a list, but in a different order. With that in mind, we'll continue the specifics of this assignment. We will be very descriptive for the first function, `deletes()`, and less so in later functions as you become familiar with list comprehensions."
   ]
  },
  {
   "cell_type": "markdown",
   "metadata": {},
   "source": [
    "<a name='ex-4'></a>\n",
    "### Exercise 4\n",
    "\n",
    "**Instructions for delete_letter():** Implement a `delete_letter()` function that, given a word, returns a list of strings with one character deleted. \n",
    "\n",
    "For example, given the word **nice**, it would return the set: {'ice', 'nce', 'nic', 'nie'}. \n",
    "\n",
    "**Step 1:** Create a list of 'splits'. This is all the ways you can split a word into Left and Right: For example,   \n",
    "'nice is split into : `[('', 'nice'), ('n', 'ice'), ('ni', 'ce'), ('nic', 'e'), ('nice', '')]`\n",
    "This is common to all four functions (delete, replace, switch, insert).\n"
   ]
  },
  {
   "cell_type": "markdown",
   "metadata": {},
   "source": [
    "<div style=\"width:image width px; font-size:100%; text-align:center;\"><img src='Splits1.PNG' alt=\"alternate text\" width=\"width\" height=\"height\" style=\"width:650px;height:200px;\" /> Figure 3 </div>"
   ]
  },
  {
   "cell_type": "markdown",
   "metadata": {},
   "source": [
    "**Step 2:** This is specific to `delete_letter`. Here, we are generating all words that result from deleting one character.  \n",
    "This can be done in a single line with a list comprehension. You can makes use of this type of syntax:  \n",
    "`[f(a,b) for a, b in splits if condition]`  \n",
    "\n",
    "For our 'nice' example you get: \n",
    "['ice', 'nce', 'nie', 'nic']"
   ]
  },
  {
   "cell_type": "markdown",
   "metadata": {},
   "source": [
    "<div style=\"width:image width px; font-size:100%; text-align:center;\"><img src='ListComp2.PNG' alt=\"alternate text\" width=\"width\" height=\"height\" style=\"width:550px;height:300px;\" /> Figure 4 </div>"
   ]
  },
  {
   "cell_type": "markdown",
   "metadata": {},
   "source": [
    "#### Levels of assistance\n",
    "\n",
    "Try this exercise with these levels of assistance.  \n",
    "- We hope that this will make it both a meaningful experience but also not a frustrating experience. \n",
    "- Start with level 1, then move onto level 2, and 3 as needed.\n",
    "\n",
    "    - Level 1. Try to think this through and implement this yourself.\n",
    "    - Level 2. Click on the \"Level 2 Hints\" section for some hints to get started.\n",
    "    - Level 3. If you would prefer more guidance, please click on the \"Level 3 Hints\" cell for step by step instructions.\n",
    "    \n",
    "- If you are still stuck, look at the images in the \"list comprehensions\" section above.\n"
   ]
  },
  {
   "cell_type": "code",
   "execution_count": 8,
   "metadata": {},
   "outputs": [],
   "source": [
    "def delete_letter(word,verbose=False):\n",
    "    '''\n",
    "    Input:\n",
    "        word: the string/word for which you will generate all possible words \n",
    "                in the vocabulary which have 1 missing character\n",
    "    Output:\n",
    "        delete_l: a list of all possible strings obtained by deleting 1 character from word\n",
    "    '''\n",
    "    \n",
    "    delete_l=[]\n",
    "    split_l=[]\n",
    "    \n",
    "    for c in range(len(word)):\n",
    "        split_l.append((word[:c],word[c:]))\n",
    "    \n",
    "    for a,b in split_l:\n",
    "        delete_l.append(a+b[1:])\n",
    "    \n",
    "    if verbose:\n",
    "        print(f\"input word: {word}, \\nsplit_l = {split_l}, \\ndelete_l = {delete_l}\")\n",
    "    \n",
    "    return delete_l"
   ]
  },
  {
   "cell_type": "code",
   "execution_count": 9,
   "metadata": {},
   "outputs": [
    {
     "name": "stdout",
     "output_type": "stream",
     "text": [
      "input word: cans, \n",
      "split_l = [('', 'cans'), ('c', 'ans'), ('ca', 'ns'), ('can', 's')], \n",
      "delete_l = ['ans', 'cns', 'cas', 'can']\n"
     ]
    }
   ],
   "source": [
    "delete_word_l = delete_letter(word=\"cans\",\n",
    "                        verbose=True)"
   ]
  },
  {
   "cell_type": "markdown",
   "metadata": {},
   "source": [
    "#### Note 1\n",
    "You might get a slightly different result with split_l.  \n",
    "- Notice how it has the extra tuple `('cans', '')`.\n",
    "- This will be fine as long as you have checked the size of the right-side substring in tuple (L,R).\n",
    "- Can you explain why this will give you the same result for the list of deletion strings (delete_l)?\n",
    "\n",
    "```Python\n",
    "input word cans, \n",
    "split_l = [('', 'cans'), ('c', 'ans'), ('ca', 'ns'), ('can', 's'), ('cans', '')], \n",
    "delete_l = ['ans', 'cns', 'cas', 'can']\n",
    "```"
   ]
  },
  {
   "cell_type": "markdown",
   "metadata": {},
   "source": [
    "#### Note 2\n",
    "If you end up getting the same word as your input word, like this:\n",
    "\n",
    "```Python\n",
    "input word cans, \n",
    "split_l = [('', 'cans'), ('c', 'ans'), ('ca', 'ns'), ('can', 's'), ('cans', '')], \n",
    "delete_l = ['ans', 'cns', 'cas', 'can', 'cans']\n",
    "```\n",
    "\n",
    "- Check how you set the `range`.\n",
    "- See if you check the length of the string on the right-side of the split."
   ]
  },
  {
   "cell_type": "code",
   "execution_count": 10,
   "metadata": {},
   "outputs": [
    {
     "name": "stdout",
     "output_type": "stream",
     "text": [
      "Number of outputs of delete_letter('at') is 2\n"
     ]
    }
   ],
   "source": [
    "print(f\"Number of outputs of delete_letter('at') is {len(delete_letter('at'))}\")"
   ]
  },
  {
   "cell_type": "markdown",
   "metadata": {},
   "source": [
    "<a name='ex-5'></a>\n",
    "### Exercise 5\n",
    "\n",
    "**Instructions for switch_letter()**: Now implement a function that switches two letters in a word. It takes in a word and returns a list of all the possible switches of two letters **that are adjacent to each other**. \n",
    "- For example, given the word 'eta', it returns {'eat', 'tea'}, but does not return 'ate'.\n",
    "\n",
    "**Step 1:** is the same as in delete_letter()  \n",
    "**Step 2:** A list comprehension or for loop which forms strings by swapping adjacent letters. This is of the form:  \n",
    "`[f(L,R) for L, R in splits if condition]`  where 'condition' will test the length of R in a given iteration. See below."
   ]
  },
  {
   "cell_type": "markdown",
   "metadata": {},
   "source": [
    "<div style=\"width:image width px; font-size:100%; text-align:center;\"><img src='Switches1.PNG' alt=\"alternate text\" width=\"width\" height=\"height\" style=\"width:600px;height:200px;\"/> Figure 5 </div>      "
   ]
  },
  {
   "cell_type": "markdown",
   "metadata": {},
   "source": [
    "#### Levels of difficulty\n",
    "\n",
    "Try this exercise with these levels of difficulty.  \n",
    "- Level 1. Try to think this through and implement this yourself.\n",
    "- Level 2. Click on the \"Level 2 Hints\" section for some hints to get started.\n",
    "- Level 3. If you would prefer more guidance, please click on the \"Level 3 Hints\" cell for step by step instructions."
   ]
  },
  {
   "cell_type": "code",
   "execution_count": 11,
   "metadata": {},
   "outputs": [],
   "source": [
    "def switch_letter(word,verbose=True):\n",
    "    '''\n",
    "    Input:\n",
    "        word: input string\n",
    "    Output:\n",
    "        switches: a list of all possible strings with one adjacent charater switched\n",
    "    '''\n",
    "    \n",
    "    def swap(c,i,j):\n",
    "        c=list(c)\n",
    "        c[i],c[j]=c[j],c[i]\n",
    "        \n",
    "        return ''.join(c)\n",
    "    \n",
    "    switch_l = []\n",
    "    split_l = []\n",
    "    \n",
    "    len_word=len(word)\n",
    "    \n",
    "    for c in range(len_word):\n",
    "        split_l.append((word[:c],word[c:]))\n",
    "    \n",
    "    switch_l=[a+b[1]+b[0]+b[2:] for a,b in split_l if len(b) >=2 ]\n",
    "    \n",
    "    if verbose: print(f\"Input word = {word} \\nsplit_l = {split_l} \\nswitch_l = {switch_l}\") \n",
    "\n",
    "    return switch_l"
   ]
  },
  {
   "cell_type": "code",
   "execution_count": 12,
   "metadata": {},
   "outputs": [
    {
     "name": "stdout",
     "output_type": "stream",
     "text": [
      "Input word = eta \n",
      "split_l = [('', 'eta'), ('e', 'ta'), ('et', 'a')] \n",
      "switch_l = ['tea', 'eat']\n"
     ]
    }
   ],
   "source": [
    "switch_word_l = switch_letter(word=\"eta\",\n",
    "                         verbose=True)"
   ]
  },
  {
   "cell_type": "markdown",
   "metadata": {},
   "source": [
    "#### Note 1\n",
    "\n",
    "You may get this:\n",
    "```Python\n",
    "Input word = eta \n",
    "split_l = [('', 'eta'), ('e', 'ta'), ('et', 'a'), ('eta', '')] \n",
    "switch_l = ['tea', 'eat']\n",
    "```\n",
    "- Notice how it has the extra tuple `('eta', '')`.\n",
    "- This is also correct.\n",
    "- Can you think of why this is the case?"
   ]
  },
  {
   "cell_type": "markdown",
   "metadata": {},
   "source": [
    "#### Note 2\n",
    "\n",
    "If you get an error\n",
    "```Python\n",
    "IndexError: string index out of range\n",
    "```\n",
    "- Please see if you have checked the length of the strings when switching characters."
   ]
  },
  {
   "cell_type": "code",
   "execution_count": 13,
   "metadata": {},
   "outputs": [
    {
     "name": "stdout",
     "output_type": "stream",
     "text": [
      "Input word = at \n",
      "split_l = [('', 'at'), ('a', 't')] \n",
      "switch_l = ['ta']\n",
      "Number of outputs of switch_letter('at') is 1\n"
     ]
    }
   ],
   "source": [
    "print(f\"Number of outputs of switch_letter('at') is {len(switch_letter('at'))}\")"
   ]
  },
  {
   "cell_type": "markdown",
   "metadata": {},
   "source": [
    "<a name='ex-6'></a>\n",
    "### Exercise 6\n",
    "**Instructions for replace_letter()**: Now implement a function that takes in a word and returns a list of strings with one **replaced letter** from the original word. \n",
    "\n",
    "**Step 1:** is the same as in `delete_letter()`\n",
    "\n",
    "**Step 2:** A list comprehension or for loop which form strings by replacing letters.  This can be of the form:  \n",
    "`[f(a,b,c) for a, b in splits if condition for c in string]`   Note the use of the second for loop.  \n",
    "It is expected in this routine that one or more of the replacements will include the original word. For example, replacing the first letter of 'ear' with 'e' will return 'ear'.\n",
    "\n",
    "**Step 3:** Remove the original input letter from the output."
   ]
  },
  {
   "cell_type": "code",
   "execution_count": 14,
   "metadata": {},
   "outputs": [],
   "source": [
    "def replace_letter(word,verbose=False):\n",
    "    '''\n",
    "    Input:\n",
    "        word: the input string/word \n",
    "    Output:\n",
    "        replaces: a list of all possible strings where we replaced one letter from the original word. \n",
    "    ''' \n",
    "    letters = 'abcdefghijklmnopqrstuvwxyz'\n",
    "    replace_l = []\n",
    "    split_l = []\n",
    "    \n",
    "    for c in range(len(word)):\n",
    "        split_l.append((word[:c],word[c:]))\n",
    "        \n",
    "    replace_l = [a + l + (b[1:] if len(b)> 1 else '') for a,b in split_l if b for l in letters]\n",
    "    replace_set=set(replace_l)    \n",
    "    replace_set.remove(word)\n",
    "    \n",
    "    replace_l = sorted(list(replace_set))\n",
    "    \n",
    "    if verbose: print(f\"Input word = {word} \\nsplit_l = {split_l} \\nreplace_l {replace_l}\")   \n",
    "\n",
    "    return replace_l"
   ]
  },
  {
   "cell_type": "code",
   "execution_count": 15,
   "metadata": {},
   "outputs": [
    {
     "name": "stdout",
     "output_type": "stream",
     "text": [
      "Input word = can \n",
      "split_l = [('', 'can'), ('c', 'an'), ('ca', 'n')] \n",
      "replace_l ['aan', 'ban', 'caa', 'cab', 'cac', 'cad', 'cae', 'caf', 'cag', 'cah', 'cai', 'caj', 'cak', 'cal', 'cam', 'cao', 'cap', 'caq', 'car', 'cas', 'cat', 'cau', 'cav', 'caw', 'cax', 'cay', 'caz', 'cbn', 'ccn', 'cdn', 'cen', 'cfn', 'cgn', 'chn', 'cin', 'cjn', 'ckn', 'cln', 'cmn', 'cnn', 'con', 'cpn', 'cqn', 'crn', 'csn', 'ctn', 'cun', 'cvn', 'cwn', 'cxn', 'cyn', 'czn', 'dan', 'ean', 'fan', 'gan', 'han', 'ian', 'jan', 'kan', 'lan', 'man', 'nan', 'oan', 'pan', 'qan', 'ran', 'san', 'tan', 'uan', 'van', 'wan', 'xan', 'yan', 'zan']\n"
     ]
    }
   ],
   "source": [
    "replace_l = replace_letter(word='can',\n",
    "                              verbose=True)"
   ]
  },
  {
   "cell_type": "markdown",
   "metadata": {},
   "source": [
    "#### Note 1\n",
    "If you get something like this:\n",
    "\n",
    "```Python\n",
    "Input word = can \n",
    "split_l = [('', 'can'), ('c', 'an'), ('ca', 'n'), ('can', '')] \n",
    "replace_l ['aan', 'ban', 'caa', 'cab', 'cac', 'cad', 'cae', 'caf', 'cag', 'cah', 'cai', 'caj', 'cak', 'cal', 'cam', 'cao', 'cap', 'caq', 'car', 'cas', 'cat', 'cau', 'cav', 'caw', 'cax', 'cay', 'caz', 'cbn', 'ccn', 'cdn', 'cen', 'cfn', 'cgn', 'chn', 'cin', 'cjn', 'ckn', 'cln', 'cmn', 'cnn', 'con', 'cpn', 'cqn', 'crn', 'csn', 'ctn', 'cun', 'cvn', 'cwn', 'cxn', 'cyn', 'czn', 'dan', 'ean', 'fan', 'gan', 'han', 'ian', 'jan', 'kan', 'lan', 'man', 'nan', 'oan', 'pan', 'qan', 'ran', 'san', 'tan', 'uan', 'van', 'wan', 'xan', 'yan', 'zan']\n",
    "```\n",
    "- Notice how split_l has an extra tuple `('can', '')`, but the output is still the same, so this is okay."
   ]
  },
  {
   "cell_type": "markdown",
   "metadata": {},
   "source": [
    "#### Note 2\n",
    "If you get something like this:\n",
    "```Python\n",
    "Input word = can \n",
    "split_l = [('', 'can'), ('c', 'an'), ('ca', 'n'), ('can', '')] \n",
    "replace_l ['aan', 'ban', 'caa', 'cab', 'cac', 'cad', 'cae', 'caf', 'cag', 'cah', 'cai', 'caj', 'cak', 'cal', 'cam', 'cana', 'canb', 'canc', 'cand', 'cane', 'canf', 'cang', 'canh', 'cani', 'canj', 'cank', 'canl', 'canm', 'cann', 'cano', 'canp', 'canq', 'canr', 'cans', 'cant', 'canu', 'canv', 'canw', 'canx', 'cany', 'canz', 'cao', 'cap', 'caq', 'car', 'cas', 'cat', 'cau', 'cav', 'caw', 'cax', 'cay', 'caz', 'cbn', 'ccn', 'cdn', 'cen', 'cfn', 'cgn', 'chn', 'cin', 'cjn', 'ckn', 'cln', 'cmn', 'cnn', 'con', 'cpn', 'cqn', 'crn', 'csn', 'ctn', 'cun', 'cvn', 'cwn', 'cxn', 'cyn', 'czn', 'dan', 'ean', 'fan', 'gan', 'han', 'ian', 'jan', 'kan', 'lan', 'man', 'nan', 'oan', 'pan', 'qan', 'ran', 'san', 'tan', 'uan', 'van', 'wan', 'xan', 'yan', 'zan']\n",
    "```\n",
    "- Notice how there are strings that are 1 letter longer than the original word, such as `cana`.\n",
    "- Please check for the case when there is an empty string `''`, and if so, do not use that empty string when setting replace_l."
   ]
  },
  {
   "cell_type": "markdown",
   "metadata": {},
   "source": [
    "<a name='ex-7'></a>\n",
    "### Exercise 7\n",
    "\n",
    "**Instructions for insert_letter()**: Now implement a function that takes in a word and returns a list with a letter inserted at every offset.\n",
    "\n",
    "**Step 1:** is the same as in `delete_letter()`\n",
    "\n",
    "**Step 2:** This can be a list comprehension of the form:  \n",
    "`[f(a,b,c) for a, b in splits if condition for c in string]`   "
   ]
  },
  {
   "cell_type": "code",
   "execution_count": 16,
   "metadata": {},
   "outputs": [],
   "source": [
    "def insert_letter(word,verbose=False):\n",
    "    '''\n",
    "    Input:\n",
    "        word: the input string/word \n",
    "    Output:\n",
    "        inserts: a set of all possible strings with one new letter inserted at every offset\n",
    "    ''' \n",
    "    \n",
    "    letters = 'abcdefghijklmnopqrstuvwxyz'\n",
    "    insert_l = []\n",
    "    split_l = []\n",
    "    \n",
    "    for c in range(len(word)+1):\n",
    "        split_l.append((word[:c],word[c:]))\n",
    "        \n",
    "    insert_l=[a+l+b for a,b in split_l for l in letters]\n",
    "    \n",
    "    if verbose: print(f\"Input word {word} \\nsplit_l = {split_l} \\ninsert_l = {insert_l}\")\n",
    "    \n",
    "    return insert_l"
   ]
  },
  {
   "cell_type": "code",
   "execution_count": 17,
   "metadata": {},
   "outputs": [
    {
     "name": "stdout",
     "output_type": "stream",
     "text": [
      "Input word at \n",
      "split_l = [('', 'at'), ('a', 't'), ('at', '')] \n",
      "insert_l = ['aat', 'bat', 'cat', 'dat', 'eat', 'fat', 'gat', 'hat', 'iat', 'jat', 'kat', 'lat', 'mat', 'nat', 'oat', 'pat', 'qat', 'rat', 'sat', 'tat', 'uat', 'vat', 'wat', 'xat', 'yat', 'zat', 'aat', 'abt', 'act', 'adt', 'aet', 'aft', 'agt', 'aht', 'ait', 'ajt', 'akt', 'alt', 'amt', 'ant', 'aot', 'apt', 'aqt', 'art', 'ast', 'att', 'aut', 'avt', 'awt', 'axt', 'ayt', 'azt', 'ata', 'atb', 'atc', 'atd', 'ate', 'atf', 'atg', 'ath', 'ati', 'atj', 'atk', 'atl', 'atm', 'atn', 'ato', 'atp', 'atq', 'atr', 'ats', 'att', 'atu', 'atv', 'atw', 'atx', 'aty', 'atz']\n",
      "Number of strings output by insert_letter('at') is 78\n"
     ]
    }
   ],
   "source": [
    "insert_l = insert_letter('at', True)\n",
    "print(f\"Number of strings output by insert_letter('at') is {len(insert_l)}\")"
   ]
  },
  {
   "cell_type": "markdown",
   "metadata": {},
   "source": [
    "#### Note 1\n",
    "\n",
    "If you get a split_l like this:\n",
    "```Python\n",
    "Input word at \n",
    "split_l = [('', 'at'), ('a', 't')] \n",
    "insert_l = ['aat', 'bat', 'cat', 'dat', 'eat', 'fat', 'gat', 'hat', 'iat', 'jat', 'kat', 'lat', 'mat', 'nat', 'oat', 'pat', 'qat', 'rat', 'sat', 'tat', 'uat', 'vat', 'wat', 'xat', 'yat', 'zat', 'aat', 'abt', 'act', 'adt', 'aet', 'aft', 'agt', 'aht', 'ait', 'ajt', 'akt', 'alt', 'amt', 'ant', 'aot', 'apt', 'aqt', 'art', 'ast', 'att', 'aut', 'avt', 'awt', 'axt', 'ayt', 'azt']\n",
    "Number of strings output by insert_letter('at') is 52\n",
    "```\n",
    "- Notice that split_l is missing the extra tuple ('at', '').  For insertion, we actually **WANT** this tuple.\n",
    "- The function is not creating all the desired output strings.\n",
    "- Check the range that you use for the for loop."
   ]
  },
  {
   "cell_type": "markdown",
   "metadata": {},
   "source": [
    "#### Note 2\n",
    "If you see this:\n",
    "```Python\n",
    "Input word at \n",
    "split_l = [('', 'at'), ('a', 't'), ('at', '')] \n",
    "insert_l = ['aat', 'bat', 'cat', 'dat', 'eat', 'fat', 'gat', 'hat', 'iat', 'jat', 'kat', 'lat', 'mat', 'nat', 'oat', 'pat', 'qat', 'rat', 'sat', 'tat', 'uat', 'vat', 'wat', 'xat', 'yat', 'zat', 'aat', 'abt', 'act', 'adt', 'aet', 'aft', 'agt', 'aht', 'ait', 'ajt', 'akt', 'alt', 'amt', 'ant', 'aot', 'apt', 'aqt', 'art', 'ast', 'att', 'aut', 'avt', 'awt', 'axt', 'ayt', 'azt']\n",
    "Number of strings output by insert_letter('at') is 52\n",
    "```\n",
    "\n",
    "- Even though you may have fixed the split_l so that it contains the tuple `('at', '')`, notice that you're still missing some output strings.\n",
    "    - Notice that it's missing strings such as 'ata', 'atb', 'atc' all the way to 'atz'.\n",
    "- To fix this, make sure that when you set insert_l, you allow the use of the empty string `''`."
   ]
  },
  {
   "cell_type": "code",
   "execution_count": 18,
   "metadata": {},
   "outputs": [
    {
     "name": "stdout",
     "output_type": "stream",
     "text": [
      "Number of outputs of insert_letter('at') is 78\n"
     ]
    }
   ],
   "source": [
    "print(f\"Number of outputs of insert_letter('at') is {len(insert_letter('at'))}\")"
   ]
  },
  {
   "cell_type": "markdown",
   "metadata": {},
   "source": [
    "<a name='3'></a>\n",
    "\n",
    "# Part 3: Combining the edits\n",
    "\n",
    "Now that you have implemented the string manipulations, you will create two functions that, given a string, will return all the possible single and double edits on that string. These will be `edit_one_letter()` and `edit_two_letters()`."
   ]
  },
  {
   "cell_type": "markdown",
   "metadata": {},
   "source": [
    "<a name='3-1'></a>\n",
    "## 3.1 Edit one letter\n",
    "\n",
    "<a name='ex-8'></a>\n",
    "### Exercise 8\n",
    "\n",
    "**Instructions**: Implement the `edit_one_letter` function to get all the possible edits that are one edit away from a word. The edits  consist of the replace, insert, delete, and optionally the switch operation. You should use the previous functions you have already implemented to complete this function. The 'switch' function  is a less common edit function, so its use will be selected by an \"allow_switches\" input argument.\n",
    "\n",
    "Note that those functions return *lists* while this function should return a *python set*. Utilizing a set eliminates any duplicate entries."
   ]
  },
  {
   "cell_type": "code",
   "execution_count": 19,
   "metadata": {},
   "outputs": [],
   "source": [
    "def edit_one_letter(word,allow_switches=True):\n",
    "    \"\"\"\n",
    "    Input:\n",
    "        word: the string/word for which we will generate all possible wordsthat are one edit away.\n",
    "    Output:\n",
    "        edit_one_set: a set of words with one possible edit. Please return a set. and not a list.\n",
    "    \"\"\"\n",
    "    \n",
    "    edit_one_set=set()\n",
    "    \n",
    "    edit_one_set.update(delete_letter(word))\n",
    "    \n",
    "    if allow_switches:\n",
    "        edit_one_set.update(switch_letter(word))\n",
    "        \n",
    "    edit_one_set.update(replace_letter(word))\n",
    "    edit_one_set.update(insert_letter(word))\n",
    "    \n",
    "    return edit_one_set"
   ]
  },
  {
   "cell_type": "code",
   "execution_count": 20,
   "metadata": {},
   "outputs": [
    {
     "name": "stdout",
     "output_type": "stream",
     "text": [
      "Input word = at \n",
      "split_l = [('', 'at'), ('a', 't')] \n",
      "switch_l = ['ta']\n",
      "input word at \n",
      "edit_one_l \n",
      "['a', 'aa', 'aat', 'ab', 'abt', 'ac', 'act', 'ad', 'adt', 'ae', 'aet', 'af', 'aft', 'ag', 'agt', 'ah', 'aht', 'ai', 'ait', 'aj', 'ajt', 'ak', 'akt', 'al', 'alt', 'am', 'amt', 'an', 'ant', 'ao', 'aot', 'ap', 'apt', 'aq', 'aqt', 'ar', 'art', 'as', 'ast', 'ata', 'atb', 'atc', 'atd', 'ate', 'atf', 'atg', 'ath', 'ati', 'atj', 'atk', 'atl', 'atm', 'atn', 'ato', 'atp', 'atq', 'atr', 'ats', 'att', 'atu', 'atv', 'atw', 'atx', 'aty', 'atz', 'au', 'aut', 'av', 'avt', 'aw', 'awt', 'ax', 'axt', 'ay', 'ayt', 'az', 'azt', 'bat', 'bt', 'cat', 'ct', 'dat', 'dt', 'eat', 'et', 'fat', 'ft', 'gat', 'gt', 'hat', 'ht', 'iat', 'it', 'jat', 'jt', 'kat', 'kt', 'lat', 'lt', 'mat', 'mt', 'nat', 'nt', 'oat', 'ot', 'pat', 'pt', 'qat', 'qt', 'rat', 'rt', 'sat', 'st', 't', 'ta', 'tat', 'tt', 'uat', 'ut', 'vat', 'vt', 'wat', 'wt', 'xat', 'xt', 'yat', 'yt', 'zat', 'zt']\n",
      "\n",
      "The type of the returned object should be a set <class 'set'>\n",
      "Input word = at \n",
      "split_l = [('', 'at'), ('a', 't')] \n",
      "switch_l = ['ta']\n",
      "Number of outputs from edit_one_letter('at') is 129\n"
     ]
    }
   ],
   "source": [
    "tmp_word = \"at\"\n",
    "tmp_edit_one_set = edit_one_letter(tmp_word)\n",
    "# turn this into a list to sort it, in order to view it\n",
    "tmp_edit_one_l = sorted(list(tmp_edit_one_set))\n",
    "\n",
    "print(f\"input word {tmp_word} \\nedit_one_l \\n{tmp_edit_one_l}\\n\")\n",
    "print(f\"The type of the returned object should be a set {type(tmp_edit_one_set)}\")\n",
    "print(f\"Number of outputs from edit_one_letter('at') is {len(edit_one_letter('at'))}\")"
   ]
  },
  {
   "cell_type": "markdown",
   "metadata": {},
   "source": [
    "<a name='3-2'></a>\n",
    "## Part 3.2 Edit two letters\n",
    "\n",
    "<a name='ex-9'></a>\n",
    "### Exercise 9\n",
    "\n",
    "Now you can generalize this to implement to get two edits on a word. To do so, you would have to get all the possible edits on a single word and then for each modified word, you would have to modify it again. \n",
    "\n",
    "**Instructions**: Implement the `edit_two_letters` function that returns a set of words that are two edits away. Note that creating additional edits based on the `edit_one_letter` function may 'restore' some one_edits to zero or one edits. That is allowed here. This accounted for in get_corrections."
   ]
  },
  {
   "cell_type": "code",
   "execution_count": 21,
   "metadata": {},
   "outputs": [],
   "source": [
    "def edit_two_letters(word,allow_switches=True):\n",
    "    '''\n",
    "    Input:\n",
    "        word: the input string/word \n",
    "    Output:\n",
    "        edit_two_set: a set of strings with all possible two edits\n",
    "    '''\n",
    "    \n",
    "    edit_two_set = set()\n",
    "    edit_one = edit_one_letter(word,allow_switches=allow_switches)\n",
    "\n",
    "    for w in edit_one:\n",
    "        if w:\n",
    "            edit_two = edit_one_letter(w,allow_switches=allow_switches)\n",
    "            edit_two_set.update(edit_two)\n",
    "    \n",
    "    return edit_two_set"
   ]
  },
  {
   "cell_type": "code",
   "execution_count": 22,
   "metadata": {},
   "outputs": [
    {
     "name": "stdout",
     "output_type": "stream",
     "text": [
      "Input word = a \n",
      "split_l = [('', 'a')] \n",
      "switch_l = []\n",
      "Input word = r \n",
      "split_l = [('', 'r')] \n",
      "switch_l = []\n",
      "Input word = da \n",
      "split_l = [('', 'da'), ('d', 'a')] \n",
      "switch_l = ['ad']\n",
      "Input word = ea \n",
      "split_l = [('', 'ea'), ('e', 'a')] \n",
      "switch_l = ['ae']\n",
      "Input word = l \n",
      "split_l = [('', 'l')] \n",
      "switch_l = []\n",
      "Input word = aj \n",
      "split_l = [('', 'aj'), ('a', 'j')] \n",
      "switch_l = ['ja']\n",
      "Input word = ap \n",
      "split_l = [('', 'ap'), ('a', 'p')] \n",
      "switch_l = ['pa']\n",
      "Input word = b \n",
      "split_l = [('', 'b')] \n",
      "switch_l = []\n",
      "Input word = pa \n",
      "split_l = [('', 'pa'), ('p', 'a')] \n",
      "switch_l = ['ap']\n",
      "Input word = y \n",
      "split_l = [('', 'y')] \n",
      "switch_l = []\n",
      "Input word = ka \n",
      "split_l = [('', 'ka'), ('k', 'a')] \n",
      "switch_l = ['ak']\n",
      "Input word = la \n",
      "split_l = [('', 'la'), ('l', 'a')] \n",
      "switch_l = ['al']\n",
      "Input word = ba \n",
      "split_l = [('', 'ba'), ('b', 'a')] \n",
      "switch_l = ['ab']\n",
      "Input word = g \n",
      "split_l = [('', 'g')] \n",
      "switch_l = []\n",
      "Input word = ya \n",
      "split_l = [('', 'ya'), ('y', 'a')] \n",
      "switch_l = ['ay']\n",
      "Input word = z \n",
      "split_l = [('', 'z')] \n",
      "switch_l = []\n",
      "Input word = ay \n",
      "split_l = [('', 'ay'), ('a', 'y')] \n",
      "switch_l = ['ya']\n",
      "Input word = am \n",
      "split_l = [('', 'am'), ('a', 'm')] \n",
      "switch_l = ['ma']\n",
      "Input word = qa \n",
      "split_l = [('', 'qa'), ('q', 'a')] \n",
      "switch_l = ['aq']\n",
      "Input word = za \n",
      "split_l = [('', 'za'), ('z', 'a')] \n",
      "switch_l = ['az']\n",
      "Input word = p \n",
      "split_l = [('', 'p')] \n",
      "switch_l = []\n",
      "Input word = e \n",
      "split_l = [('', 'e')] \n",
      "switch_l = []\n",
      "Input word = x \n",
      "split_l = [('', 'x')] \n",
      "switch_l = []\n",
      "Input word = f \n",
      "split_l = [('', 'f')] \n",
      "switch_l = []\n",
      "Input word = aq \n",
      "split_l = [('', 'aq'), ('a', 'q')] \n",
      "switch_l = ['qa']\n",
      "Input word = as \n",
      "split_l = [('', 'as'), ('a', 's')] \n",
      "switch_l = ['sa']\n",
      "Input word = al \n",
      "split_l = [('', 'al'), ('a', 'l')] \n",
      "switch_l = ['la']\n",
      "Input word = oa \n",
      "split_l = [('', 'oa'), ('o', 'a')] \n",
      "switch_l = ['ao']\n",
      "Input word = ac \n",
      "split_l = [('', 'ac'), ('a', 'c')] \n",
      "switch_l = ['ca']\n",
      "Input word = va \n",
      "split_l = [('', 'va'), ('v', 'a')] \n",
      "switch_l = ['av']\n",
      "Input word = ad \n",
      "split_l = [('', 'ad'), ('a', 'd')] \n",
      "switch_l = ['da']\n",
      "Input word = k \n",
      "split_l = [('', 'k')] \n",
      "switch_l = []\n",
      "Input word = h \n",
      "split_l = [('', 'h')] \n",
      "switch_l = []\n",
      "Input word = ia \n",
      "split_l = [('', 'ia'), ('i', 'a')] \n",
      "switch_l = ['ai']\n",
      "Input word = af \n",
      "split_l = [('', 'af'), ('a', 'f')] \n",
      "switch_l = ['fa']\n",
      "Input word = ca \n",
      "split_l = [('', 'ca'), ('c', 'a')] \n",
      "switch_l = ['ac']\n",
      "Input word = c \n",
      "split_l = [('', 'c')] \n",
      "switch_l = []\n",
      "Input word = n \n",
      "split_l = [('', 'n')] \n",
      "switch_l = []\n",
      "Input word = ae \n",
      "split_l = [('', 'ae'), ('a', 'e')] \n",
      "switch_l = ['ea']\n",
      "Input word = v \n",
      "split_l = [('', 'v')] \n",
      "switch_l = []\n",
      "Input word = ax \n",
      "split_l = [('', 'ax'), ('a', 'x')] \n",
      "switch_l = ['xa']\n",
      "Input word = at \n",
      "split_l = [('', 'at'), ('a', 't')] \n",
      "switch_l = ['ta']\n",
      "Input word = wa \n",
      "split_l = [('', 'wa'), ('w', 'a')] \n",
      "switch_l = ['aw']\n",
      "Input word = ta \n",
      "split_l = [('', 'ta'), ('t', 'a')] \n",
      "switch_l = ['at']\n",
      "Input word = ab \n",
      "split_l = [('', 'ab'), ('a', 'b')] \n",
      "switch_l = ['ba']\n",
      "Input word = an \n",
      "split_l = [('', 'an'), ('a', 'n')] \n",
      "switch_l = ['na']\n",
      "Input word = av \n",
      "split_l = [('', 'av'), ('a', 'v')] \n",
      "switch_l = ['va']\n",
      "Input word = ak \n",
      "split_l = [('', 'ak'), ('a', 'k')] \n",
      "switch_l = ['ka']\n",
      "Input word = w \n",
      "split_l = [('', 'w')] \n",
      "switch_l = []\n",
      "Input word = ha \n",
      "split_l = [('', 'ha'), ('h', 'a')] \n",
      "switch_l = ['ah']\n",
      "Input word = ga \n",
      "split_l = [('', 'ga'), ('g', 'a')] \n",
      "switch_l = ['ag']\n",
      "Input word = aw \n",
      "split_l = [('', 'aw'), ('a', 'w')] \n",
      "switch_l = ['wa']\n",
      "Input word = ao \n",
      "split_l = [('', 'ao'), ('a', 'o')] \n",
      "switch_l = ['oa']\n",
      "Input word = j \n",
      "split_l = [('', 'j')] \n",
      "switch_l = []\n",
      "Input word = t \n",
      "split_l = [('', 't')] \n",
      "switch_l = []\n",
      "Input word = fa \n",
      "split_l = [('', 'fa'), ('f', 'a')] \n",
      "switch_l = ['af']\n",
      "Input word = ra \n",
      "split_l = [('', 'ra'), ('r', 'a')] \n",
      "switch_l = ['ar']\n",
      "Input word = xa \n",
      "split_l = [('', 'xa'), ('x', 'a')] \n",
      "switch_l = ['ax']\n",
      "Input word = m \n",
      "split_l = [('', 'm')] \n",
      "switch_l = []\n",
      "Input word = ja \n",
      "split_l = [('', 'ja'), ('j', 'a')] \n",
      "switch_l = ['aj']\n",
      "Input word = ah \n",
      "split_l = [('', 'ah'), ('a', 'h')] \n",
      "switch_l = ['ha']\n",
      "Input word = ua \n",
      "split_l = [('', 'ua'), ('u', 'a')] \n",
      "switch_l = ['au']\n",
      "Input word = q \n",
      "split_l = [('', 'q')] \n",
      "switch_l = []\n",
      "Input word = au \n",
      "split_l = [('', 'au'), ('a', 'u')] \n",
      "switch_l = ['ua']\n",
      "Input word = az \n",
      "split_l = [('', 'az'), ('a', 'z')] \n",
      "switch_l = ['za']\n",
      "Input word = i \n",
      "split_l = [('', 'i')] \n",
      "switch_l = []\n",
      "Input word = sa \n",
      "split_l = [('', 'sa'), ('s', 'a')] \n",
      "switch_l = ['as']\n",
      "Input word = aa \n",
      "split_l = [('', 'aa'), ('a', 'a')] \n",
      "switch_l = ['aa']\n",
      "Input word = u \n",
      "split_l = [('', 'u')] \n",
      "switch_l = []\n",
      "Input word = ar \n",
      "split_l = [('', 'ar'), ('a', 'r')] \n",
      "switch_l = ['ra']\n",
      "Input word = ai \n",
      "split_l = [('', 'ai'), ('a', 'i')] \n",
      "switch_l = ['ia']\n",
      "Input word = d \n",
      "split_l = [('', 'd')] \n",
      "switch_l = []\n",
      "Input word = na \n",
      "split_l = [('', 'na'), ('n', 'a')] \n",
      "switch_l = ['an']\n",
      "Input word = s \n",
      "split_l = [('', 's')] \n",
      "switch_l = []\n",
      "Input word = ag \n",
      "split_l = [('', 'ag'), ('a', 'g')] \n",
      "switch_l = ['ga']\n",
      "Input word = o \n",
      "split_l = [('', 'o')] \n",
      "switch_l = []\n",
      "Input word = ma \n",
      "split_l = [('', 'ma'), ('m', 'a')] \n",
      "switch_l = ['am']\n",
      "Number of strings with edit distance of two: 2654\n",
      "First 10 strings ['', 'a', 'aa', 'aaa', 'aab', 'aac', 'aad', 'aae', 'aaf', 'aag']\n",
      "Last 10 strings ['zv', 'zva', 'zw', 'zwa', 'zx', 'zxa', 'zy', 'zya', 'zz', 'zza']\n",
      "The data type of the returned object should be a set <class 'set'>\n",
      "Input word = at \n",
      "split_l = [('', 'at'), ('a', 't')] \n",
      "switch_l = ['ta']\n",
      "Input word = axt \n",
      "split_l = [('', 'axt'), ('a', 'xt'), ('ax', 't')] \n",
      "switch_l = ['xat', 'atx']\n",
      "Input word = gat \n",
      "split_l = [('', 'gat'), ('g', 'at'), ('ga', 't')] \n",
      "switch_l = ['agt', 'gta']\n",
      "Input word = bat \n",
      "split_l = [('', 'bat'), ('b', 'at'), ('ba', 't')] \n",
      "switch_l = ['abt', 'bta']\n",
      "Input word = dt \n",
      "split_l = [('', 'dt'), ('d', 't')] \n",
      "switch_l = ['td']\n",
      "Input word = aat \n",
      "split_l = [('', 'aat'), ('a', 'at'), ('aa', 't')] \n",
      "switch_l = ['aat', 'ata']\n",
      "Input word = apt \n",
      "split_l = [('', 'apt'), ('a', 'pt'), ('ap', 't')] \n",
      "switch_l = ['pat', 'atp']\n",
      "Input word = atv \n",
      "split_l = [('', 'atv'), ('a', 'tv'), ('at', 'v')] \n",
      "switch_l = ['tav', 'avt']\n",
      "Input word = aj \n",
      "split_l = [('', 'aj'), ('a', 'j')] \n",
      "switch_l = ['ja']\n",
      "Input word = ap \n",
      "split_l = [('', 'ap'), ('a', 'p')] \n",
      "switch_l = ['pa']\n",
      "Input word = ft \n",
      "split_l = [('', 'ft'), ('f', 't')] \n",
      "switch_l = ['tf']\n",
      "Input word = azt \n",
      "split_l = [('', 'azt'), ('a', 'zt'), ('az', 't')] \n",
      "switch_l = ['zat', 'atz']\n",
      "Input word = mat \n",
      "split_l = [('', 'mat'), ('m', 'at'), ('ma', 't')] \n",
      "switch_l = ['amt', 'mta']\n",
      "Input word = fat \n",
      "split_l = [('', 'fat'), ('f', 'at'), ('fa', 't')] \n",
      "switch_l = ['aft', 'fta']\n",
      "Input word = kat \n",
      "split_l = [('', 'kat'), ('k', 'at'), ('ka', 't')] \n",
      "switch_l = ['akt', 'kta']\n",
      "Input word = ats \n",
      "split_l = [('', 'ats'), ('a', 'ts'), ('at', 's')] \n",
      "switch_l = ['tas', 'ast']\n",
      "Input word = uat \n",
      "split_l = [('', 'uat'), ('u', 'at'), ('ua', 't')] \n",
      "switch_l = ['aut', 'uta']\n",
      "Input word = cat \n",
      "split_l = [('', 'cat'), ('c', 'at'), ('ca', 't')] \n",
      "switch_l = ['act', 'cta']\n",
      "Input word = vt \n",
      "split_l = [('', 'vt'), ('v', 't')] \n",
      "switch_l = ['tv']\n",
      "Input word = ait \n",
      "split_l = [('', 'ait'), ('a', 'it'), ('ai', 't')] \n",
      "switch_l = ['iat', 'ati']\n",
      "Input word = yat \n",
      "split_l = [('', 'yat'), ('y', 'at'), ('ya', 't')] \n",
      "switch_l = ['ayt', 'yta']\n",
      "Input word = ay \n",
      "split_l = [('', 'ay'), ('a', 'y')] \n",
      "switch_l = ['ya']\n",
      "Input word = amt \n",
      "split_l = [('', 'amt'), ('a', 'mt'), ('am', 't')] \n",
      "switch_l = ['mat', 'atm']\n",
      "Input word = atk \n",
      "split_l = [('', 'atk'), ('a', 'tk'), ('at', 'k')] \n",
      "switch_l = ['tak', 'akt']\n",
      "Input word = avt \n",
      "split_l = [('', 'avt'), ('a', 'vt'), ('av', 't')] \n",
      "switch_l = ['vat', 'atv']\n",
      "Input word = am \n",
      "split_l = [('', 'am'), ('a', 'm')] \n",
      "switch_l = ['ma']\n",
      "Input word = oat \n",
      "split_l = [('', 'oat'), ('o', 'at'), ('oa', 't')] \n",
      "switch_l = ['aot', 'ota']\n",
      "Input word = sat \n",
      "split_l = [('', 'sat'), ('s', 'at'), ('sa', 't')] \n",
      "switch_l = ['ast', 'sta']\n",
      "Input word = wt \n",
      "split_l = [('', 'wt'), ('w', 't')] \n",
      "switch_l = ['tw']\n",
      "Input word = wat \n",
      "split_l = [('', 'wat'), ('w', 'at'), ('wa', 't')] \n",
      "switch_l = ['awt', 'wta']\n",
      "Input word = ayt \n",
      "split_l = [('', 'ayt'), ('a', 'yt'), ('ay', 't')] \n",
      "switch_l = ['yat', 'aty']\n",
      "Input word = gt \n",
      "split_l = [('', 'gt'), ('g', 't')] \n",
      "switch_l = ['tg']\n",
      "Input word = atq \n",
      "split_l = [('', 'atq'), ('a', 'tq'), ('at', 'q')] \n",
      "switch_l = ['taq', 'aqt']\n",
      "Input word = atx \n",
      "split_l = [('', 'atx'), ('a', 'tx'), ('at', 'x')] \n",
      "switch_l = ['tax', 'axt']\n",
      "Input word = atf \n",
      "split_l = [('', 'atf'), ('a', 'tf'), ('at', 'f')] \n",
      "switch_l = ['taf', 'aft']\n",
      "Input word = atn \n",
      "split_l = [('', 'atn'), ('a', 'tn'), ('at', 'n')] \n",
      "switch_l = ['tan', 'ant']\n",
      "Input word = alt \n",
      "split_l = [('', 'alt'), ('a', 'lt'), ('al', 't')] \n",
      "switch_l = ['lat', 'atl']\n",
      "Input word = bt \n",
      "split_l = [('', 'bt'), ('b', 't')] \n",
      "switch_l = ['tb']\n",
      "Input word = ato \n",
      "split_l = [('', 'ato'), ('a', 'to'), ('at', 'o')] \n",
      "switch_l = ['tao', 'aot']\n",
      "Input word = atu \n",
      "split_l = [('', 'atu'), ('a', 'tu'), ('at', 'u')] \n",
      "switch_l = ['tau', 'aut']\n",
      "Input word = jat \n",
      "split_l = [('', 'jat'), ('j', 'at'), ('ja', 't')] \n",
      "switch_l = ['ajt', 'jta']\n",
      "Input word = mt \n",
      "split_l = [('', 'mt'), ('m', 't')] \n",
      "switch_l = ['tm']\n",
      "Input word = aq \n",
      "split_l = [('', 'aq'), ('a', 'q')] \n",
      "switch_l = ['qa']\n",
      "Input word = et \n",
      "split_l = [('', 'et'), ('e', 't')] \n",
      "switch_l = ['te']\n",
      "Input word = atb \n",
      "split_l = [('', 'atb'), ('a', 'tb'), ('at', 'b')] \n",
      "switch_l = ['tab', 'abt']\n",
      "Input word = as \n",
      "split_l = [('', 'as'), ('a', 's')] \n",
      "switch_l = ['sa']\n",
      "Input word = ct \n",
      "split_l = [('', 'ct'), ('c', 't')] \n",
      "switch_l = ['tc']\n",
      "Input word = ath \n",
      "split_l = [('', 'ath'), ('a', 'th'), ('at', 'h')] \n",
      "switch_l = ['tah', 'aht']\n",
      "Input word = al \n",
      "split_l = [('', 'al'), ('a', 'l')] \n",
      "switch_l = ['la']\n",
      "Input word = it \n",
      "split_l = [('', 'it'), ('i', 't')] \n",
      "switch_l = ['ti']\n",
      "Input word = ant \n",
      "split_l = [('', 'ant'), ('a', 'nt'), ('an', 't')] \n",
      "switch_l = ['nat', 'atn']\n",
      "Input word = atj \n",
      "split_l = [('', 'atj'), ('a', 'tj'), ('at', 'j')] \n",
      "switch_l = ['taj', 'ajt']\n",
      "Input word = nat \n",
      "split_l = [('', 'nat'), ('n', 'at'), ('na', 't')] \n",
      "switch_l = ['ant', 'nta']\n",
      "Input word = aht \n",
      "split_l = [('', 'aht'), ('a', 'ht'), ('ah', 't')] \n",
      "switch_l = ['hat', 'ath']\n",
      "Input word = ac \n",
      "split_l = [('', 'ac'), ('a', 'c')] \n",
      "switch_l = ['ca']\n",
      "Input word = ut \n",
      "split_l = [('', 'ut'), ('u', 't')] \n",
      "switch_l = ['tu']\n",
      "Input word = ad \n",
      "split_l = [('', 'ad'), ('a', 'd')] \n",
      "switch_l = ['da']\n",
      "Input word = pt \n",
      "split_l = [('', 'pt'), ('p', 't')] \n",
      "switch_l = ['tp']\n",
      "Input word = aot \n",
      "split_l = [('', 'aot'), ('a', 'ot'), ('ao', 't')] \n",
      "switch_l = ['oat', 'ato']\n",
      "Input word = lt \n",
      "split_l = [('', 'lt'), ('l', 't')] \n",
      "switch_l = ['tl']\n",
      "Input word = pat \n",
      "split_l = [('', 'pat'), ('p', 'at'), ('pa', 't')] \n",
      "switch_l = ['apt', 'pta']\n",
      "Input word = hat \n",
      "split_l = [('', 'hat'), ('h', 'at'), ('ha', 't')] \n",
      "switch_l = ['aht', 'hta']\n",
      "Input word = atw \n",
      "split_l = [('', 'atw'), ('a', 'tw'), ('at', 'w')] \n",
      "switch_l = ['taw', 'awt']\n",
      "Input word = af \n",
      "split_l = [('', 'af'), ('a', 'f')] \n",
      "switch_l = ['fa']\n",
      "Input word = akt \n",
      "split_l = [('', 'akt'), ('a', 'kt'), ('ak', 't')] \n",
      "switch_l = ['kat', 'atk']\n",
      "Input word = ae \n",
      "split_l = [('', 'ae'), ('a', 'e')] \n",
      "switch_l = ['ea']\n",
      "Input word = ax \n",
      "split_l = [('', 'ax'), ('a', 'x')] \n",
      "switch_l = ['xa']\n",
      "Input word = eat \n",
      "split_l = [('', 'eat'), ('e', 'at'), ('ea', 't')] \n",
      "switch_l = ['aet', 'eta']\n",
      "Input word = aft \n",
      "split_l = [('', 'aft'), ('a', 'ft'), ('af', 't')] \n",
      "switch_l = ['fat', 'atf']\n",
      "Input word = lat \n",
      "split_l = [('', 'lat'), ('l', 'at'), ('la', 't')] \n",
      "switch_l = ['alt', 'lta']\n",
      "Input word = xt \n",
      "split_l = [('', 'xt'), ('x', 't')] \n",
      "switch_l = ['tx']\n",
      "Input word = atr \n",
      "split_l = [('', 'atr'), ('a', 'tr'), ('at', 'r')] \n",
      "switch_l = ['tar', 'art']\n",
      "Input word = aqt \n",
      "split_l = [('', 'aqt'), ('a', 'qt'), ('aq', 't')] \n",
      "switch_l = ['qat', 'atq']\n",
      "Input word = act \n",
      "split_l = [('', 'act'), ('a', 'ct'), ('ac', 't')] \n",
      "switch_l = ['cat', 'atc']\n",
      "Input word = ta \n",
      "split_l = [('', 'ta'), ('t', 'a')] \n",
      "switch_l = ['at']\n",
      "Input word = aty \n",
      "split_l = [('', 'aty'), ('a', 'ty'), ('at', 'y')] \n",
      "switch_l = ['tay', 'ayt']\n",
      "Input word = an \n",
      "split_l = [('', 'an'), ('a', 'n')] \n",
      "switch_l = ['na']\n",
      "Input word = ab \n",
      "split_l = [('', 'ab'), ('a', 'b')] \n",
      "switch_l = ['ba']\n",
      "Input word = av \n",
      "split_l = [('', 'av'), ('a', 'v')] \n",
      "switch_l = ['va']\n",
      "Input word = ak \n",
      "split_l = [('', 'ak'), ('a', 'k')] \n",
      "switch_l = ['ka']\n",
      "Input word = rat \n",
      "split_l = [('', 'rat'), ('r', 'at'), ('ra', 't')] \n",
      "switch_l = ['art', 'rta']\n",
      "Input word = abt \n",
      "split_l = [('', 'abt'), ('a', 'bt'), ('ab', 't')] \n",
      "switch_l = ['bat', 'atb']\n",
      "Input word = aet \n",
      "split_l = [('', 'aet'), ('a', 'et'), ('ae', 't')] \n",
      "switch_l = ['eat', 'ate']\n",
      "Input word = zt \n",
      "split_l = [('', 'zt'), ('z', 't')] \n",
      "switch_l = ['tz']\n",
      "Input word = aw \n",
      "split_l = [('', 'aw'), ('a', 'w')] \n",
      "switch_l = ['wa']\n",
      "Input word = ao \n",
      "split_l = [('', 'ao'), ('a', 'o')] \n",
      "switch_l = ['oa']\n",
      "Input word = jt \n",
      "split_l = [('', 'jt'), ('j', 't')] \n",
      "switch_l = ['tj']\n",
      "Input word = agt \n",
      "split_l = [('', 'agt'), ('a', 'gt'), ('ag', 't')] \n",
      "switch_l = ['gat', 'atg']\n",
      "Input word = tat \n",
      "split_l = [('', 'tat'), ('t', 'at'), ('ta', 't')] \n",
      "switch_l = ['att', 'tta']\n",
      "Input word = ajt \n",
      "split_l = [('', 'ajt'), ('a', 'jt'), ('aj', 't')] \n",
      "switch_l = ['jat', 'atj']\n",
      "Input word = atp \n",
      "split_l = [('', 'atp'), ('a', 'tp'), ('at', 'p')] \n",
      "switch_l = ['tap', 'apt']\n",
      "Input word = t \n",
      "split_l = [('', 't')] \n",
      "switch_l = []\n",
      "Input word = adt \n",
      "split_l = [('', 'adt'), ('a', 'dt'), ('ad', 't')] \n",
      "switch_l = ['dat', 'atd']\n",
      "Input word = rt \n",
      "split_l = [('', 'rt'), ('r', 't')] \n",
      "switch_l = ['tr']\n",
      "Input word = atz \n",
      "split_l = [('', 'atz'), ('a', 'tz'), ('at', 'z')] \n",
      "switch_l = ['taz', 'azt']\n",
      "Input word = vat \n",
      "split_l = [('', 'vat'), ('v', 'at'), ('va', 't')] \n",
      "switch_l = ['avt', 'vta']\n",
      "Input word = ah \n",
      "split_l = [('', 'ah'), ('a', 'h')] \n",
      "switch_l = ['ha']\n",
      "Input word = atg \n",
      "split_l = [('', 'atg'), ('a', 'tg'), ('at', 'g')] \n",
      "switch_l = ['tag', 'agt']\n",
      "Input word = au \n",
      "split_l = [('', 'au'), ('a', 'u')] \n",
      "switch_l = ['ua']\n",
      "Input word = ati \n",
      "split_l = [('', 'ati'), ('a', 'ti'), ('at', 'i')] \n",
      "switch_l = ['tai', 'ait']\n",
      "Input word = yt \n",
      "split_l = [('', 'yt'), ('y', 't')] \n",
      "switch_l = ['ty']\n",
      "Input word = az \n",
      "split_l = [('', 'az'), ('a', 'z')] \n",
      "switch_l = ['za']\n",
      "Input word = kt \n",
      "split_l = [('', 'kt'), ('k', 't')] \n",
      "switch_l = ['tk']\n",
      "Input word = st \n",
      "split_l = [('', 'st'), ('s', 't')] \n",
      "switch_l = ['ts']\n",
      "Input word = iat \n",
      "split_l = [('', 'iat'), ('i', 'at'), ('ia', 't')] \n",
      "switch_l = ['ait', 'ita']\n",
      "Input word = ate \n",
      "split_l = [('', 'ate'), ('a', 'te'), ('at', 'e')] \n",
      "switch_l = ['tae', 'aet']\n",
      "Input word = art \n",
      "split_l = [('', 'art'), ('a', 'rt'), ('ar', 't')] \n",
      "switch_l = ['rat', 'atr']\n",
      "Input word = atm \n",
      "split_l = [('', 'atm'), ('a', 'tm'), ('at', 'm')] \n",
      "switch_l = ['tam', 'amt']\n",
      "Input word = zat \n",
      "split_l = [('', 'zat'), ('z', 'at'), ('za', 't')] \n",
      "switch_l = ['azt', 'zta']\n",
      "Input word = atc \n",
      "split_l = [('', 'atc'), ('a', 'tc'), ('at', 'c')] \n",
      "switch_l = ['tac', 'act']\n",
      "Input word = aa \n",
      "split_l = [('', 'aa'), ('a', 'a')] \n",
      "switch_l = ['aa']\n",
      "Input word = ht \n",
      "split_l = [('', 'ht'), ('h', 't')] \n",
      "switch_l = ['th']\n",
      "Input word = ot \n",
      "split_l = [('', 'ot'), ('o', 't')] \n",
      "switch_l = ['to']\n",
      "Input word = ar \n",
      "split_l = [('', 'ar'), ('a', 'r')] \n",
      "switch_l = ['ra']\n",
      "Input word = dat \n",
      "split_l = [('', 'dat'), ('d', 'at'), ('da', 't')] \n",
      "switch_l = ['adt', 'dta']\n",
      "Input word = tt \n",
      "split_l = [('', 'tt'), ('t', 't')] \n",
      "switch_l = ['tt']\n",
      "Input word = ai \n",
      "split_l = [('', 'ai'), ('a', 'i')] \n",
      "switch_l = ['ia']\n",
      "Input word = att \n",
      "split_l = [('', 'att'), ('a', 'tt'), ('at', 't')] \n",
      "switch_l = ['tat', 'att']\n",
      "Input word = ag \n",
      "split_l = [('', 'ag'), ('a', 'g')] \n",
      "switch_l = ['ga']\n",
      "Input word = ata \n",
      "split_l = [('', 'ata'), ('a', 'ta'), ('at', 'a')] \n",
      "switch_l = ['taa', 'aat']\n",
      "Input word = aut \n",
      "split_l = [('', 'aut'), ('a', 'ut'), ('au', 't')] \n",
      "switch_l = ['uat', 'atu']\n",
      "Input word = atd \n",
      "split_l = [('', 'atd'), ('a', 'td'), ('at', 'd')] \n",
      "switch_l = ['tad', 'adt']\n",
      "Input word = a \n",
      "split_l = [('', 'a')] \n",
      "switch_l = []\n",
      "Input word = nt \n",
      "split_l = [('', 'nt'), ('n', 't')] \n",
      "switch_l = ['tn']\n",
      "Input word = ast \n",
      "split_l = [('', 'ast'), ('a', 'st'), ('as', 't')] \n",
      "switch_l = ['sat', 'ats']\n",
      "Input word = xat \n",
      "split_l = [('', 'xat'), ('x', 'at'), ('xa', 't')] \n",
      "switch_l = ['axt', 'xta']\n",
      "Input word = awt \n",
      "split_l = [('', 'awt'), ('a', 'wt'), ('aw', 't')] \n",
      "switch_l = ['wat', 'atw']\n",
      "Input word = qt \n",
      "split_l = [('', 'qt'), ('q', 't')] \n",
      "switch_l = ['tq']\n",
      "Input word = atl \n",
      "split_l = [('', 'atl'), ('a', 'tl'), ('at', 'l')] \n",
      "switch_l = ['tal', 'alt']\n",
      "Input word = qat \n",
      "split_l = [('', 'qat'), ('q', 'at'), ('qa', 't')] \n",
      "switch_l = ['aqt', 'qta']\n",
      "Number of strings that are 2 edit distances from 'at' is 7154\n"
     ]
    }
   ],
   "source": [
    "tmp_edit_two_set = edit_two_letters(\"a\")\n",
    "tmp_edit_two_l = sorted(list(tmp_edit_two_set))\n",
    "print(f\"Number of strings with edit distance of two: {len(tmp_edit_two_l)}\")\n",
    "print(f\"First 10 strings {tmp_edit_two_l[:10]}\")\n",
    "print(f\"Last 10 strings {tmp_edit_two_l[-10:]}\")\n",
    "print(f\"The data type of the returned object should be a set {type(tmp_edit_two_set)}\")\n",
    "print(f\"Number of strings that are 2 edit distances from 'at' is {len(edit_two_letters('at'))}\")"
   ]
  },
  {
   "cell_type": "markdown",
   "metadata": {},
   "source": [
    "<a name='3-3'></a>\n",
    "## Part 3-3: suggest spelling suggestions\n",
    "\n",
    "Now you will use your `edit_two_letters` function to get a set of all the possible 2 edits on your word. You will then use those strings to get the most probable word you meant to type aka your typing suggestion.\n",
    "\n",
    "<a name='ex-10'></a>\n",
    "### Exercise 10\n",
    "**Instructions**: Implement `get_corrections`, which returns a list of zero to n possible suggestion tuples of the form (word, probability_of_word). \n",
    "\n",
    "**Step 1:** Generate suggestions for a supplied word: You'll use the edit functions you have developed. The 'suggestion algorithm' should follow this logic: \n",
    "* If the word is in the vocabulary, suggest the word. \n",
    "* Otherwise, if there are suggestions from `edit_one_letter` that are in the vocabulary, use those. \n",
    "* Otherwise, if there are suggestions from `edit_two_letters` that are in the vocabulary, use those. \n",
    "* Otherwise, suggest the input word.*  \n",
    "* The idea is that words generated from fewer edits are more likely than words with more edits.\n",
    "\n",
    "\n",
    "Note: \n",
    "- Edits of one or two letters may 'restore' strings to either zero or one edit. This algorithm accounts for this by preferentially selecting lower distance edits first."
   ]
  },
  {
   "cell_type": "markdown",
   "metadata": {},
   "source": [
    "#### Short circuit\n",
    "In Python, logical operations such as `and` and `or` have two useful properties. They can operate on lists and they have ['short-circuit' behavior](https://docs.python.org/3/library/stdtypes.html). Try these:"
   ]
  },
  {
   "cell_type": "code",
   "execution_count": 23,
   "metadata": {},
   "outputs": [
    {
     "name": "stdout",
     "output_type": "stream",
     "text": [
      "[]\n",
      "['a', 'b']\n",
      "['Most', 'Likely']\n",
      "['least', 'of', 'all']\n"
     ]
    }
   ],
   "source": [
    "# example of logical operation on lists or sets\n",
    "print( [] and [\"a\",\"b\"] )\n",
    "print( [] or [\"a\",\"b\"] )\n",
    "#example of Short circuit behavior\n",
    "val1 =  [\"Most\",\"Likely\"] or [\"Less\",\"so\"] or [\"least\",\"of\",\"all\"]  # selects first, does not evalute remainder\n",
    "print(val1)\n",
    "val2 =  [] or [] or [\"least\",\"of\",\"all\"] # continues evaluation until there is a non-empty list\n",
    "print(val2)"
   ]
  },
  {
   "cell_type": "markdown",
   "metadata": {},
   "source": [
    "The logical `or` could be used to implement the suggestion algorithm very compactly. Alternately, if/then constructs could be used.\n",
    " \n",
    "**Step 2**: Create a 'best_words' dictionary where the 'key' is a suggestion and the 'value' is the probability of that word in your vocabulary. If the word is not in the vocabulary, assign it a probability of 0.\n",
    "\n",
    "**Step 3**: Select the n best suggestions. There may be fewer than n."
   ]
  },
  {
   "cell_type": "code",
   "execution_count": 24,
   "metadata": {},
   "outputs": [],
   "source": [
    "def get_corrections(word,probs,vocab,n=2,verbose=False):\n",
    "    '''\n",
    "    Input: \n",
    "        word: a user entered string to check for suggestions\n",
    "        probs: a dictionary that maps each word to its probability in the corpus\n",
    "        vocab: a set containing all the vocabulary\n",
    "        n: number of possible word corrections you want returned in the dictionary\n",
    "    Output: \n",
    "        n_best: a list of tuples with the most probable n corrected words and their probabilities.\n",
    "    '''\n",
    "    \n",
    "    suggestions = []\n",
    "    n_best = []\n",
    "    \n",
    "    suggestions=list((word in vocab and word) or edit_one_letter(word).intersection(vocab)\\\n",
    "                     or edit_two_letters(word).intersection(vocab))\n",
    "    \n",
    "    n_best=[[s,probs[s]] for s in list(reversed(suggestions))]\n",
    "    \n",
    "    if verbose: print(\"suggestions = \", suggestions)\n",
    "\n",
    "    return n_best"
   ]
  },
  {
   "cell_type": "code",
   "execution_count": 25,
   "metadata": {},
   "outputs": [
    {
     "name": "stdout",
     "output_type": "stream",
     "text": [
      "Input word = dys \n",
      "split_l = [('', 'dys'), ('d', 'ys'), ('dy', 's')] \n",
      "switch_l = ['yds', 'dsy']\n",
      "word 0: dye, probability 0.000019\n",
      "word 1: days, probability 0.000410\n",
      "data type of corrections <class 'list'>\n"
     ]
    }
   ],
   "source": [
    "my_word = 'dys' \n",
    "tmp_corrections = get_corrections(my_word, probs, vocab, 2, verbose=False)\n",
    "for i, word_prob in enumerate(tmp_corrections):\n",
    "    print(f\"word {i}: {word_prob[0]}, probability {word_prob[1]:.6f}\")\n",
    "# CODE REVIEW COMMENT: using \"tmp_corrections\" insteads of \"cors\". \"cors\" is not defined\n",
    "print(f\"data type of corrections {type(tmp_corrections)}\")"
   ]
  },
  {
   "cell_type": "markdown",
   "metadata": {},
   "source": [
    " <a name='4'></a>\n",
    "# Part 4: Minimum Edit distance\n",
    "\n",
    "Now that you have implemented your auto-correct, how do you evaluate the similarity between two strings? For example: 'waht' and 'what'\n",
    "\n",
    "Also how do you efficiently find the shortest path to go from the word, 'waht' to the word 'what'?\n",
    "\n",
    "You will implement a dynamic programming system that will tell you the minimum number of edits required to convert a string into another string."
   ]
  },
  {
   "cell_type": "markdown",
   "metadata": {},
   "source": [
    "<a name='4-1'></a>\n",
    "### Part 4.1 Dynamic Programming\n",
    "\n",
    "Dynamic Programming breaks a problem down into subproblems which can be combined to form the final solution. Here, given a string source[0..i] and a string target[0..j], we will compute all the combinations of substrings[i, j] and calculate their edit distance. To do this efficiently, we will use a table to maintain the previously computed substrings and use those to calculate larger substrings.\n",
    "\n",
    "You have to create a matrix and update each element in the matrix as follows:  "
   ]
  },
  {
   "cell_type": "markdown",
   "metadata": {},
   "source": [
    "$$\\text{Initialization}$$\n",
    "\n",
    "\\begin{align}\n",
    "D[0,0] &= 0 \\\\\n",
    "D[i,0] &= D[i-1,0] + del\\_cost(source[i]) \\tag{4}\\\\\n",
    "D[0,j] &= D[0,j-1] + ins\\_cost(target[j]) \\\\\n",
    "\\end{align}"
   ]
  },
  {
   "cell_type": "markdown",
   "metadata": {},
   "source": [
    "\n",
    "$$\\text{Per Cell Operations}$$\n",
    "\\begin{align}\n",
    " \\\\\n",
    "D[i,j] =min\n",
    "\\begin{cases}\n",
    "D[i-1,j] + del\\_cost\\\\\n",
    "D[i,j-1] + ins\\_cost\\\\\n",
    "D[i-1,j-1] + \\left\\{\\begin{matrix}\n",
    "rep\\_cost; & if src[i]\\neq tar[j]\\\\\n",
    "0 ; & if src[i]=tar[j]\n",
    "\\end{matrix}\\right.\n",
    "\\end{cases}\n",
    "\\tag{5}\n",
    "\\end{align}"
   ]
  },
  {
   "cell_type": "markdown",
   "metadata": {},
   "source": [
    "So converting the source word **play** to the target word **stay**, using an input cost of one, a delete cost of 1, and replace cost of 2 would give you the following table:\n",
    "<table style=\"width:20%\">\n",
    "\n",
    "  <tr>\n",
    "    <td> <b> </b>  </td>\n",
    "    <td> <b># </b>  </td>\n",
    "    <td> <b>s </b>  </td>\n",
    "    <td> <b>t </b> </td> \n",
    "    <td> <b>a </b> </td> \n",
    "    <td> <b>y </b> </td> \n",
    "  </tr>\n",
    "   <tr>\n",
    "    <td> <b>  #  </b></td>\n",
    "    <td> 0</td> \n",
    "    <td> 1</td> \n",
    "    <td> 2</td> \n",
    "    <td> 3</td> \n",
    "    <td> 4</td> \n",
    " \n",
    "  </tr>\n",
    "  <tr>\n",
    "    <td> <b>  p  </b></td>\n",
    "    <td> 1</td> \n",
    " <td> 2</td> \n",
    "    <td> 3</td> \n",
    "    <td> 4</td> \n",
    "   <td> 5</td>\n",
    "  </tr>\n",
    "   \n",
    "  <tr>\n",
    "    <td> <b> l </b></td>\n",
    "    <td>2</td> \n",
    "    <td>3</td> \n",
    "    <td>4</td> \n",
    "    <td>5</td> \n",
    "    <td>6</td>\n",
    "  </tr>\n",
    "\n",
    "  <tr>\n",
    "    <td> <b> a </b></td>\n",
    "    <td>3</td> \n",
    "     <td>4</td> \n",
    "     <td>5</td> \n",
    "     <td>4</td>\n",
    "     <td>5</td> \n",
    "  </tr>\n",
    "  \n",
    "   <tr>\n",
    "    <td> <b> y </b></td>\n",
    "    <td>4</td> \n",
    "      <td>5</td> \n",
    "     <td>6</td> \n",
    "     <td>5</td>\n",
    "     <td>4</td> \n",
    "  </tr>\n",
    "  \n",
    "\n",
    "</table>\n",
    "\n"
   ]
  },
  {
   "cell_type": "markdown",
   "metadata": {},
   "source": [
    "The operations used in this algorithm are 'insert', 'delete', and 'replace'. These correspond to the functions that you defined earlier: insert_letter(), delete_letter() and replace_letter(). switch_letter() is not used here.\n",
    "\n",
    "The diagram below describes how to initialize the table. Each entry in D[i,j] represents the minimum cost of converting string source[0:i] to string target[0:j]. The first column is initialized to represent the cumulative cost of deleting the source characters to convert string \"EER\" to \"\". The first row is initialized to represent the cumulative cost of inserting the target characters to convert from \"\" to \"NEAR\"."
   ]
  },
  {
   "cell_type": "markdown",
   "metadata": {},
   "source": [
    "<div style=\"width:image width px; font-size:100%; text-align:center;\"><img src='EditDistInit4.PNG' alt=\"alternate text\" width=\"width\" height=\"height\" style=\"width:1000px;height:400px;\"/> Figure 6 Initializing Distance Matrix</div>     "
   ]
  },
  {
   "cell_type": "markdown",
   "metadata": {},
   "source": [
    "Filling in the remainder of the table utilizes the 'Per Cell Operations' in the equation (5) above. Note, the diagram below includes in the table some of the 3 sub-calculations shown in light grey. Only 'min' of those operations is stored in the table in the `min_edit_distance()` function."
   ]
  },
  {
   "cell_type": "markdown",
   "metadata": {},
   "source": [
    "<div style=\"width:image width px; font-size:100%; text-align:center;\"><img src='EditDistFill2.PNG' alt=\"alternate text\" width=\"width\" height=\"height\" style=\"width:800px;height:400px;\"/> Figure 7 Filling Distance Matrix</div>     "
   ]
  },
  {
   "cell_type": "markdown",
   "metadata": {},
   "source": [
    "Note that the formula for $D[i,j]$ shown in the image is equivalent to:\n",
    "\n",
    "\\begin{align}\n",
    " \\\\\n",
    "D[i,j] =min\n",
    "\\begin{cases}\n",
    "D[i-1,j] + del\\_cost\\\\\n",
    "D[i,j-1] + ins\\_cost\\\\\n",
    "D[i-1,j-1] + \\left\\{\\begin{matrix}\n",
    "rep\\_cost; & if src[i]\\neq tar[j]\\\\\n",
    "0 ; & if src[i]=tar[j]\n",
    "\\end{matrix}\\right.\n",
    "\\end{cases}\n",
    "\\tag{5}\n",
    "\\end{align}\n",
    "\n",
    "The variable `sub_cost` (for substitution cost) is the same as `rep_cost`; replacement cost.  We will stick with the term \"replace\" whenever possible."
   ]
  },
  {
   "cell_type": "markdown",
   "metadata": {},
   "source": [
    "Below are some examples of cells where replacement is used. This also shows the minimum path from the lower right final position where \"EER\" has been replaced by \"NEAR\" back to the start. This provides a starting point for the optional 'backtrace' algorithm below."
   ]
  },
  {
   "cell_type": "markdown",
   "metadata": {},
   "source": [
    "<div style=\"width:image width px; font-size:100%; text-align:center;\"><img src='EditDistExample1.PNG' alt=\"alternate text\" width=\"width\" height=\"height\" style=\"width:1200px;height:400px;\"/> Figure 8 Examples Distance Matrix</div>    "
   ]
  },
  {
   "cell_type": "markdown",
   "metadata": {},
   "source": [
    "<a name='ex-11'></a>\n",
    "### Exercise 11\n",
    "\n",
    "Again, the word \"substitution\" appears in the figure, but think of this as \"replacement\"."
   ]
  },
  {
   "cell_type": "markdown",
   "metadata": {},
   "source": [
    "**Instructions**: Implement the function below to get the minimum amount of edits required given a source string and a target string. "
   ]
  },
  {
   "cell_type": "code",
   "execution_count": 26,
   "metadata": {},
   "outputs": [],
   "source": [
    "def min_edit_distance(source, target, ins_cost = 1, del_cost = 1, rep_cost = 2):\n",
    "    '''\n",
    "    Input: \n",
    "        source: a string corresponding to the string you are starting with\n",
    "        target: a string corresponding to the string you want to end with\n",
    "        ins_cost: an integer setting the insert cost\n",
    "        del_cost: an integer setting the delete cost\n",
    "        rep_cost: an integer setting the replace cost\n",
    "    Output:\n",
    "        D: a matrix of len(source)+1 by len(target)+1 containing minimum edit distances\n",
    "        med: the minimum edit distance (med) required to convert the source string to the target\n",
    "    '''\n",
    "    \n",
    "    # use deletion and insertion cost as 1\n",
    "    m=len(source)\n",
    "    n=len(target)\n",
    "    \n",
    "    # initialize cost matrix with zeros and dimensions (m+1,n+1)\n",
    "    D=np.zeros((m+1,n+1),dtype=int)\n",
    "    \n",
    "    for row in range(1,m+1):\n",
    "        D[row,0]=D[row-1,0]+del_cost\n",
    "    \n",
    "    for col in range(1,n+1):\n",
    "        D[0,col]=D[0,col-1]+ins_cost\n",
    "        \n",
    "    for row in range(1,m+1):\n",
    "        for col in range(1,n+1):\n",
    "            r_cost=rep_cost\n",
    "            \n",
    "            if source[row-1]==target[col-1]:\n",
    "                r_cost=0\n",
    "            \n",
    "            D[row,col]=min([D[row-1,col]+del_cost, D[row,col-1]+ins_cost, D[row-1,col-1]+r_cost])\n",
    "            \n",
    "    med=D[m,n]\n",
    "    \n",
    "    return D,med"
   ]
  },
  {
   "cell_type": "code",
   "execution_count": 27,
   "metadata": {},
   "outputs": [
    {
     "name": "stdout",
     "output_type": "stream",
     "text": [
      "minimum edits:  4 \n",
      "\n",
      "   #  s  t  a  y\n",
      "#  0  1  2  3  4\n",
      "p  1  2  3  4  5\n",
      "l  2  3  4  5  6\n",
      "a  3  4  5  4  5\n",
      "y  4  5  6  5  4\n"
     ]
    }
   ],
   "source": [
    "# Testing \n",
    "source =  'play'\n",
    "target = 'stay'\n",
    "matrix, min_edits = min_edit_distance(source, target)\n",
    "print(\"minimum edits: \",min_edits, \"\\n\")\n",
    "idx = list('#' + source)\n",
    "cols = list('#' + target)\n",
    "df = pd.DataFrame(matrix, index=idx, columns= cols)\n",
    "print(df)"
   ]
  },
  {
   "cell_type": "code",
   "execution_count": 28,
   "metadata": {},
   "outputs": [
    {
     "name": "stdout",
     "output_type": "stream",
     "text": [
      "minimum edits:  3 \n",
      "\n",
      "   #  n  e  a  r\n",
      "#  0  1  2  3  4\n",
      "e  1  2  1  2  3\n",
      "e  2  3  2  3  4\n",
      "r  3  4  3  4  3\n"
     ]
    }
   ],
   "source": [
    "# Testing\n",
    "source =  'eer'\n",
    "target = 'near'\n",
    "matrix, min_edits = min_edit_distance(source, target)\n",
    "print(\"minimum edits: \",min_edits, \"\\n\")\n",
    "idx = list(source)\n",
    "idx.insert(0, '#')\n",
    "cols = list(target)\n",
    "cols.insert(0, '#')\n",
    "df = pd.DataFrame(matrix, index=idx, columns= cols)\n",
    "print(df)"
   ]
  },
  {
   "cell_type": "markdown",
   "metadata": {},
   "source": [
    "We can now test several of our routines at once:"
   ]
  },
  {
   "cell_type": "code",
   "execution_count": 29,
   "metadata": {},
   "outputs": [],
   "source": [
    "source = \"eer\"\n",
    "targets = edit_one_letter(source,allow_switches = False)  #disable switches since min_edit_distance does not include them\n",
    "for t in targets:\n",
    "    _, min_edits = min_edit_distance(source, t,1,1,1)  # set ins, del, sub costs all to one\n",
    "    if min_edits != 1: print(source, t, min_edits)"
   ]
  },
  {
   "cell_type": "markdown",
   "metadata": {},
   "source": [
    "**Expected Results:**  (empty)\n",
    "\n",
    "The 'replace()' routine utilizes all letters a-z one of which returns the original word."
   ]
  },
  {
   "cell_type": "code",
   "execution_count": 30,
   "metadata": {},
   "outputs": [
    {
     "name": "stdout",
     "output_type": "stream",
     "text": [
      "eer eer 0\n"
     ]
    }
   ],
   "source": [
    "source = \"eer\"\n",
    "targets = edit_two_letters(source,allow_switches = False) #disable switches since min_edit_distance does not include them\n",
    "for t in targets:\n",
    "    _, min_edits = min_edit_distance(source, t,1,1,1)  # set ins, del, sub costs all to one\n",
    "    if min_edits != 2 and min_edits != 1: print(source, t, min_edits)"
   ]
  },
  {
   "cell_type": "markdown",
   "metadata": {},
   "source": [
    "# Submission\n",
    "Make sure you submit your assignment before you modify anything below\n"
   ]
  },
  {
   "cell_type": "markdown",
   "metadata": {},
   "source": [
    "<a name='5'></a>\n",
    "\n",
    "# Part 5: Optional - Backtrace\n",
    "\n",
    "\n",
    "Once you have computed your matrix using minimum edit distance, how would find the shortest path from the top left corner to the bottom right corner? \n",
    "\n",
    "Note that you could use backtrace algorithm.  Try to find the shortest path given the matrix that your `min_edit_distance` function returned.\n",
    "\n",
    "You can use these [lecture slides on minimum edit distance](https://web.stanford.edu/class/cs124/lec/med.pdf) by Dan Jurafsky to learn about the algorithm for backtrace."
   ]
  },
  {
   "cell_type": "markdown",
   "metadata": {},
   "source": [
    "#### References\n",
    "- Dan Jurafsky - Speech and Language Processing - Textbook\n",
    "- This auto-correct explanation was first done by Peter Norvig in 2007 "
   ]
  },
  {
   "cell_type": "code",
   "execution_count": null,
   "metadata": {},
   "outputs": [],
   "source": []
  }
 ],
 "metadata": {
  "kernelspec": {
   "display_name": "Python 3",
   "language": "python",
   "name": "python3"
  },
  "language_info": {
   "codemirror_mode": {
    "name": "ipython",
    "version": 3
   },
   "file_extension": ".py",
   "mimetype": "text/x-python",
   "name": "python",
   "nbconvert_exporter": "python",
   "pygments_lexer": "ipython3",
   "version": "3.7.7"
  }
 },
 "nbformat": 4,
 "nbformat_minor": 4
}
